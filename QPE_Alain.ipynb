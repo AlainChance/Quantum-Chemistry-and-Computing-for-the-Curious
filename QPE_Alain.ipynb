{
 "cells": [
  {
   "cell_type": "markdown",
   "id": "3acf7fcc-e1b6-429e-b2d2-88c09f78eafc",
   "metadata": {},
   "source": [
    "## Quantum Phase Estimation (QPE)\n",
    "Check at the end of this Notebook for details.\n",
    "This Jupyter notebook `QPE_Alain.ipynb` and the Python file `QPE_Alain.py` are compatible with Python 3.13, Qiskit v2.1, Qiskit runtime version: 0.40 and Qiskit Runtime V2 primitives.\n",
    "|||\n",
    "|-|-|\n",
    "|**Author:** |Alain Chancé|\n",
    "|**Date:** |July 1, 2025|\n",
    "|**Version:** |**1.00**<br/>*Details see at the end of this notebook*|\n",
    "|**References:**|\n",
    "[The phase estimation problem](https://quantum.cloud.ibm.com/learning/en/courses/fundamentals-of-quantum-algorithms/phase-estimation-and-factoring/phase-estimation-problem)\n",
    "<br/>"
   ]
  },
  {
   "cell_type": "markdown",
   "id": "1966ef5a-7ebf-4bcb-9c2b-f46005a263b5",
   "metadata": {},
   "source": [
    "## Phase estimation problem statement\n",
    "Input: A unitary quantum circuit for an $n$-qubit operation $U$ along with an $n$-qubit quantum state $\\vert\\psi\\rangle$ \\\n",
    "Promise: $\\vert\\psi\\rangle$ is an eigenvector of $U$ \\\n",
    "Output: an approximation to the number $\\theta\\in[0,1)$ satisfying $U\\vert\\psi\\rangle = e^{2\\pi i \\theta}\\vert\\psi\\rangle$"
   ]
  },
  {
   "cell_type": "code",
   "execution_count": 1,
   "id": "7726792a-6321-4735-b0e4-c10d2772fc1b",
   "metadata": {},
   "outputs": [
    {
     "name": "stdout",
     "output_type": "stream",
     "text": [
      "\n",
      "qnspsa.py - Using Sampler V2 primitives\n",
      "\n",
      "compute_uncompute.py - Using Sampler V2 primitives\n",
      "\n",
      "phase_estimation.py - Using Sampler V2 primitives\n",
      "\n",
      "hamiltonian_phase_estimation.py - Using Sampler V2 primitives\n",
      "\n",
      "phase_estimation.py - Using Sampler V2 primitives\n",
      "\n",
      "observables_evaluator.py - Using Sampler V2 primitives\n",
      "\n",
      "vqe - Using Qiskit Runtime V2 primitives\n"
     ]
    }
   ],
   "source": [
    "from QPE_Alain import *"
   ]
  },
  {
   "cell_type": "markdown",
   "id": "6491794a-6c68-4206-8b56-474449aef31a",
   "metadata": {},
   "source": [
    "## Find an approximation to the final state of a quantum circuit with a phase gate from QPE\n",
    "PhaseGate, https://quantum.cloud.ibm.com/docs/en/api/qiskit/qiskit.circuit.library.PhaseGate"
   ]
  },
  {
   "cell_type": "code",
   "execution_count": 2,
   "id": "5330e651-3088-481e-be86-6f80102e1afc",
   "metadata": {},
   "outputs": [],
   "source": [
    "def U(theta):\n",
    "  unitary = QuantumCircuit(1)\n",
    "  unitary.p(np.pi*2*theta, 0)\n",
    "  return unitary"
   ]
  },
  {
   "cell_type": "code",
   "execution_count": 3,
   "id": "2fb97855-312f-49ab-8555-03dad3c0948c",
   "metadata": {
    "colab": {
     "base_uri": "https://localhost:8080/"
    },
    "executionInfo": {
     "elapsed": 11,
     "status": "ok",
     "timestamp": 1685555559306,
     "user": {
      "displayName": "Alain Chancé",
      "userId": "15344856735617693852"
     },
     "user_tz": -120
    },
    "id": "-BClSbzXDu-v",
    "outputId": "29bd2393-e1fe-4a56-b7db-829cb427320b"
   },
   "outputs": [
    {
     "name": "stdout",
     "output_type": "stream",
     "text": [
      "theta: 0.875\n",
      "Number of qubits: 3, QPE phase estimate: 0.875\n"
     ]
    }
   ],
   "source": [
    "theta = 1/2 + 1/4 + 1/8\n",
    "print(\"theta: {}\".format(theta))\n",
    "unitary = U(theta)\n",
    "result = do_qpe(unitary, nqubits=3, show=True)"
   ]
  },
  {
   "cell_type": "code",
   "execution_count": 4,
   "id": "f9ed3781-41a5-4d06-a039-c467d59c8b95",
   "metadata": {},
   "outputs": [
    {
     "name": "stdout",
     "output_type": "stream",
     "text": [
      "theta: 0.625\n",
      "Number of qubits: 3, QPE phase estimate: 0.625\n"
     ]
    }
   ],
   "source": [
    "theta = 1/2 + 1/8\n",
    "print(\"theta: {}\".format(theta))\n",
    "unitary = U(theta)\n",
    "result = do_qpe(unitary, nqubits=3, show=True)"
   ]
  },
  {
   "cell_type": "code",
   "execution_count": 5,
   "id": "19963703-9836-40e9-af6b-43806c5bc818",
   "metadata": {},
   "outputs": [
    {
     "name": "stdout",
     "output_type": "stream",
     "text": [
      "theta: 0.375\n",
      "Number of qubits: 3, QPE phase estimate: 0.375\n"
     ]
    }
   ],
   "source": [
    "theta = 1/4 + 1/8\n",
    "print(\"theta: {}\".format(theta))\n",
    "unitary = U(theta)\n",
    "result = do_qpe(unitary, nqubits=3, show=True)"
   ]
  },
  {
   "cell_type": "code",
   "execution_count": 6,
   "id": "de8d41a7-825d-4fe2-b4b9-74420edbb245",
   "metadata": {
    "colab": {
     "base_uri": "https://localhost:8080/"
    },
    "executionInfo": {
     "elapsed": 493,
     "status": "ok",
     "timestamp": 1685555559789,
     "user": {
      "displayName": "Alain Chancé",
      "userId": "15344856735617693852"
     },
     "user_tz": -120
    },
    "id": "75807vgGEde2",
    "outputId": "f98e0c60-cfbe-47c1-928e-8844e123e432"
   },
   "outputs": [
    {
     "name": "stdout",
     "output_type": "stream",
     "text": [
      "theta: 0.99609375\n",
      "Number of qubits: 8, QPE phase estimate: 0.99609375\n"
     ]
    }
   ],
   "source": [
    "theta = 1/2 + 1/4 + 1/8 + 1/16 + 1/32 + 1/64 + 1/128 + 1/256\n",
    "print(\"theta: {}\".format(theta))\n",
    "unitary = U(theta)\n",
    "result = do_qpe(unitary, nqubits=8, show=True)"
   ]
  },
  {
   "cell_type": "markdown",
   "id": "77b6e519-cf8b-4c46-95c2-90a8cc6bafe6",
   "metadata": {},
   "source": [
    "## Find an approximation to the ground state of the $H_2$ molecule at equilibrium in the `sto3g` basis set from QPE"
   ]
  },
  {
   "cell_type": "code",
   "execution_count": 7,
   "id": "5a8afd4d-797f-47b5-920b-c3064a136f7e",
   "metadata": {},
   "outputs": [
    {
     "name": "stdout",
     "output_type": "stream",
     "text": [
      "Ground state energy from QPE: -1.2026409377023426 Ha\n"
     ]
    }
   ],
   "source": [
    "basis = 'sto3g'                     # Basis set\n",
    "atom = 'H .0 .0 .0; H .0 .0 0.735'  # atom\n",
    "\n",
    "driver = PySCFDriver(atom=atom, basis=basis)\n",
    "problem = driver.run()\n",
    "# Run QPE\n",
    "result = run_qpe(problem, 8, show=True)"
   ]
  },
  {
   "cell_type": "markdown",
   "id": "d0aa2b52-82a1-43a0-a241-cf84fc71d3fd",
   "metadata": {},
   "source": [
    "## Qiskit packages versions"
   ]
  },
  {
   "cell_type": "code",
   "execution_count": 8,
   "id": "03ba8c9f-e80c-48e1-831a-b8bc6c16cddf",
   "metadata": {},
   "outputs": [
    {
     "name": "stdout",
     "output_type": "stream",
     "text": [
      "Qiskit: 2.1.0\n",
      "Qiskit IBM Runtime: 0.40.1\n",
      "Qiskit Aer version: 0.17.1\n"
     ]
    }
   ],
   "source": [
    "import qiskit\n",
    "import qiskit_ibm_runtime\n",
    "import qiskit_aer\n",
    "\n",
    "print(f'Qiskit: {qiskit.__version__}')\n",
    "print(f'Qiskit IBM Runtime: {qiskit_ibm_runtime.__version__}')\n",
    "print(f\"Qiskit Aer version: {qiskit_aer.__version__}\")"
   ]
  },
  {
   "cell_type": "markdown",
   "id": "54158c8f-79ab-472d-87b9-cece2bf70144",
   "metadata": {},
   "source": [
    "## Show Python version"
   ]
  },
  {
   "cell_type": "code",
   "execution_count": 9,
   "id": "06b23324-7df4-4fff-9c5c-4133f1dcfcfb",
   "metadata": {},
   "outputs": [
    {
     "name": "stdout",
     "output_type": "stream",
     "text": [
      "/home/alain/miniconda3/bin/python\n",
      "Python 3.13.0\n"
     ]
    }
   ],
   "source": [
    "%%bash\n",
    "which python\n",
    "python --version"
   ]
  }
 ],
 "metadata": {
  "kernelspec": {
   "display_name": "Python 3 (ipykernel)",
   "language": "python",
   "name": "python3"
  },
  "language_info": {
   "codemirror_mode": {
    "name": "ipython",
    "version": 3
   },
   "file_extension": ".py",
   "mimetype": "text/x-python",
   "name": "python",
   "nbconvert_exporter": "python",
   "pygments_lexer": "ipython3",
   "version": "3.13.0"
  }
 },
 "nbformat": 4,
 "nbformat_minor": 5
}
