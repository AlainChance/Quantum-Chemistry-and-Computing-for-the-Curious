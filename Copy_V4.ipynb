{
 "cells": [
  {
   "cell_type": "markdown",
   "id": "3acf7fcc-e1b6-429e-b2d2-88c09f78eafc",
   "metadata": {},
   "source": [
    "## Implement temporary fix to support version 2 of Qiskit Runtime Primitives\n",
    "Check at the end of this Notebook for details."
   ]
  },
  {
   "cell_type": "code",
   "execution_count": 1,
   "id": "ba2a92f9-4ec5-4198-86cb-6c5f023dc5e9",
   "metadata": {},
   "outputs": [
    {
     "name": "stdout",
     "output_type": "stream",
     "text": [
      "Qiskit version: 2.1.0\n"
     ]
    },
    {
     "name": "stdin",
     "output_type": "stream",
     "text": [
      "\n",
      "Do you want to to implement the temporary fix described in cell 'Summary of updates V4' ? (y/n):  y\n"
     ]
    },
    {
     "name": "stdout",
     "output_type": "stream",
     "text": [
      "You chose Yes.\n",
      "Source directory:  /home/alain/qiskit_algorithms\n",
      "Destination directory:  /home/alain/miniconda3/lib/python3.13/site-packages/qiskit_algorithms\n",
      "Copying files from source directory to destination directory\n",
      "\n",
      "Source directory:  /home/alain/qiskit/primitives\n",
      "Destination directory:  /home/alain/miniconda3/lib/python3.13/site-packages/qiskit/primitives\n",
      "Copying files from source directory to destination directory\n",
      "\n",
      "Source directory:  /home/alain/qiskit/primitives_V1\n",
      "Destination directory:  /home/alain/miniconda3/lib/python3.13/site-packages/qiskit/primitives\n",
      "Copying files from source directory to destination directory\n",
      "\n",
      "Source directory:  /home/alain/qiskit/providers\n",
      "Destination directory:  /home/alain/miniconda3/lib/python3.13/site-packages/qiskit/providers\n",
      "Copying files from source directory to destination directory\n",
      "\n",
      "Source directory:  /home/alain/qiskit_nature\n",
      "Destination directory:  /home/alain/miniconda3/lib/python3.13/site-packages/qiskit_nature\n",
      "Copying files from source directory to destination directory\n",
      "\n"
     ]
    }
   ],
   "source": [
    "%run Copy_V4"
   ]
  },
  {
   "cell_type": "markdown",
   "id": "5234a290-c91a-435e-8c9b-f2e65e70171c",
   "metadata": {},
   "source": [
    "**Qiskit Algorithms** is no longer officially supported by IBM. Work is in progress to adapt the whole code base to support V2 primitives and ISA circuits:\n",
    "\n",
    "- Added V2 and ISA support #197, 🔗https://github.com/qiskit-community/qiskit-algorithms/pull/197\n",
    "- HamiltonianPhaseEstimation class — Issue #204, 🔗https://github.com/qiskit-community/qiskit-algorithms/issues/204\n",
    "\n",
    "**Warning**\n",
    "\n",
    "Like any other Apache 2 licensed code, you are free to use `qiskit_algorithms`, `qiskit_nature`, `qiskit/primitives`, and `qiskit/providers` libraries or/and extend them, but please be aware that it is under your own risk. \n",
    "\n",
    "See disclaimer in readme, 🔗 https://github.com/qiskit-community/qiskit-algorithms?tab=readme-ov-file#qiskit-algorithms\n",
    "\n",
    "**Temporary fix**\n",
    "\n",
    "In the same GitHub repository https://github.com/AlainChance/Quantum-Chemistry-and-Computing-for-the-Curious where this Jupyter notebook is published, you will find three TAR archive files containing a set of customized files that are needed/used in the Jupyter notebooks for Chapter 4 and Chapter 5. \n",
    "\n",
    "* qiskit.tar\n",
    "* qiskit_algorithms.tar\n",
    "* qiskit_nature.tar\n",
    "\n",
    "Under your own risk, you can run the `Copy_V4.ipynb` notebook which executes the `Copy_V4.py` script.\n",
    "\n",
    "```bash\n",
    "%run Copy_V4\n",
    "```\n",
    "\n",
    "The Copy_V4.py script sets a boolean `qv1` to `True` if the version of Qiskit is less than 2.0:\n",
    "```\n",
    "import qiskit\n",
    "qv = qiskit.__version__\n",
    "print(f\"Qiskit version: {qv}\")\n",
    "qv1 = int(qv[0]) < 2\n",
    "```\n",
    "\n",
    "The shared variable `primitive_v2` is set in the file `primitive_version.py` as follows (customize according to your specific installation path):\n",
    "```python\n",
    "#------------------------\n",
    "# Get site_packages path\n",
    "#------------------------\n",
    "import site\n",
    "sitepackages = site.getsitepackages()\n",
    "\n",
    "#---------------------------------------------------\n",
    "# Write primitive_version.py into qiskit_algorithms\n",
    "#---------------------------------------------------\n",
    "with open(sitepackages[0] + '/qiskit_algorithms/primitive_version.py', \"w\") as file:\n",
    "    # Write a single line to the file\n",
    "    if qv1:\n",
    "        file.write(\"primitive_v2 = False\")\n",
    "    else:\n",
    "        file.write(\"primitive_v2 = True\")\n",
    "\n",
    "```\n",
    "It then imports it in the code cell that follows `Import various algorithms with the following commands`:\n",
    "```\n",
    "from qiskit_algorithms.primitive_version import primitive_v2\n",
    "```\n",
    "The shared variable `primitive_v2` is imported in a number of Python files, see below examples. \n",
    "\n",
    "`qiskit_algorithms/minimum_eigensolvers/vqe.py`\n",
    "```\n",
    "from qiskit_algorithms.primitive_version import primitive_v2\n",
    "\n",
    "# If version 2 of the Qiskit Runtime primitives\n",
    "if primitive_v2:\n",
    "    from qiskit.primitives import BaseEstimatorV2 as BaseEstimator, StatevectorEstimator\n",
    "    print(\"\\nvqe - Using Qiskit Runtime V2 primitives\")\n",
    "else:\n",
    "    from qiskit.primitives import BaseEstimatorV1 as BaseEstimator, EstimatorResult\n",
    "    from qiskit.primitives.estimator import Estimator\n",
    "    print(\"\\nvqe - Using Qiskit Runtime V1 primitives\")\n",
    "```"
   ]
  },
  {
   "cell_type": "markdown",
   "id": "d0aa2b52-82a1-43a0-a241-cf84fc71d3fd",
   "metadata": {},
   "source": [
    "## Qiskit packages versions"
   ]
  },
  {
   "cell_type": "code",
   "execution_count": 2,
   "id": "03ba8c9f-e80c-48e1-831a-b8bc6c16cddf",
   "metadata": {},
   "outputs": [
    {
     "name": "stdout",
     "output_type": "stream",
     "text": [
      "Qiskit: 2.1.0\n",
      "Qiskit IBM Runtime: 0.40.1\n",
      "Qiskit Aer version: 0.17.1\n"
     ]
    }
   ],
   "source": [
    "import qiskit\n",
    "import qiskit_ibm_runtime\n",
    "import qiskit_aer\n",
    "\n",
    "print(f'Qiskit: {qiskit.__version__}')\n",
    "print(f'Qiskit IBM Runtime: {qiskit_ibm_runtime.__version__}')\n",
    "print(f\"Qiskit Aer version: {qiskit_aer.__version__}\")"
   ]
  },
  {
   "cell_type": "markdown",
   "id": "54158c8f-79ab-472d-87b9-cece2bf70144",
   "metadata": {},
   "source": [
    "## Show Python version"
   ]
  },
  {
   "cell_type": "code",
   "execution_count": 3,
   "id": "06b23324-7df4-4fff-9c5c-4133f1dcfcfb",
   "metadata": {},
   "outputs": [
    {
     "name": "stdout",
     "output_type": "stream",
     "text": [
      "/home/alain/miniconda3/bin/python\n",
      "Python 3.13.0\n"
     ]
    }
   ],
   "source": [
    "%%bash\n",
    "which python\n",
    "python --version"
   ]
  }
 ],
 "metadata": {
  "kernelspec": {
   "display_name": "Python 3 (ipykernel)",
   "language": "python",
   "name": "python3"
  },
  "language_info": {
   "codemirror_mode": {
    "name": "ipython",
    "version": 3
   },
   "file_extension": ".py",
   "mimetype": "text/x-python",
   "name": "python",
   "nbconvert_exporter": "python",
   "pygments_lexer": "ipython3",
   "version": "3.13.0"
  }
 },
 "nbformat": 4,
 "nbformat_minor": 5
}
