{
 "cells": [
  {
   "cell_type": "markdown",
   "metadata": {
    "id": "boqsNTC8Y7mN"
   },
   "source": [
    "This is the companion Jupyter Notebook of Chapter 4, Molecular Hamiltonians, of the book titled:\n",
    "\"Quantum Chemistry and Computing for the Curious: Illustrated with Python and Qiskit® code\" and with ISBN-13: 978-1803243900.\n",
    "Copyright © 2022, Keeper L. Sharkey and Alain Chancé."
   ]
  },
  {
   "cell_type": "markdown",
   "metadata": {
    "id": "lyOS5s2Q4Jx2"
   },
   "source": [
    "The following MIT license only applies to the code, and not to the text and images. The authors are not granting a license to replicate or reuse the text and images in the companion Jupyter notebook.\n",
    "\n",
    "# MIT License\n",
    "\n",
    "Copyright (c) 2022 Packt\n",
    "\n",
    "Permission is hereby granted, free of charge, to any person obtaining a copy\n",
    "of this software and associated documentation files (the \"Software\"), to deal\n",
    "in the Software without restriction, including without limitation the rights\n",
    "to use, copy, modify, merge, publish, distribute, sublicense, and/or sell\n",
    "copies of the Software, and to permit persons to whom the Software is\n",
    "furnished to do so, subject to the following conditions:\n",
    "\n",
    "The above copyright notice and this permission notice shall be included in all\n",
    "copies or substantial portions of the Software.\n",
    "\n",
    "THE SOFTWARE IS PROVIDED \"AS IS\", WITHOUT WARRANTY OF ANY KIND, EXPRESS OR\n",
    "IMPLIED, INCLUDING BUT NOT LIMITED TO THE WARRANTIES OF MERCHANTABILITY,\n",
    "FITNESS FOR A PARTICULAR PURPOSE AND NONINFRINGEMENT. IN NO EVENT SHALL THE\n",
    "AUTHORS OR COPYRIGHT HOLDERS BE LIABLE FOR ANY CLAIM, DAMAGES OR OTHER\n",
    "LIABILITY, WHETHER IN AN ACTION OF CONTRACT, TORT OR OTHERWISE, ARISING FROM,\n",
    "OUT OF OR IN CONNECTION WITH THE SOFTWARE OR THE USE OR OTHER DEALINGS IN THE\n",
    "SOFTWARE.\n"
   ]
  },
  {
   "cell_type": "markdown",
   "metadata": {
    "id": "oNqOYS227ESk"
   },
   "source": [
    "# 4. Molecular Hamiltonians\n",
    "\n",
    "# Technical requirements"
   ]
  },
  {
   "cell_type": "markdown",
   "metadata": {
    "jp-MarkdownHeadingCollapsed": true
   },
   "source": [
    "## Updates\n",
    "Updates are presented in the following cells at the end of this notebook:\n",
    "*   Summary of updates V4\n",
    "*   - Temporary fix to enable Qiskit Algorithms and Qiskit Nature to work with Qiskit v2.0\n",
    "*   Summary of updates V3\n",
    "*   Summary of updates V2.2\n",
    "*   Summary of updates V2.1\n",
    "*   Summary of updates V2"
   ]
  },
  {
   "cell_type": "markdown",
   "metadata": {
    "id": "-VltqWatg_ND"
   },
   "source": [
    "## Installing NumPy, Qiskit and importing various modules\n",
    "### Install NumPy with the following command:"
   ]
  },
  {
   "cell_type": "code",
   "execution_count": 1,
   "metadata": {
    "colab": {
     "base_uri": "https://localhost:8080/"
    },
    "executionInfo": {
     "elapsed": 7063,
     "status": "ok",
     "timestamp": 1650284065813,
     "user": {
      "displayName": "Alain Chancé",
      "userId": "15344856735617693852"
     },
     "user_tz": -120
    },
    "id": "7XhpijAbD1v4",
    "outputId": "90a29845-088b-4ae2-e6be-23376908f12d"
   },
   "outputs": [
    {
     "name": "stdout",
     "output_type": "stream",
     "text": [
      "Requirement already satisfied: numpy in /home/alain/miniconda3/lib/python3.13/site-packages (2.2.6)\n",
      "Note: you may need to restart the kernel to use updated packages.\n"
     ]
    }
   ],
   "source": [
    "pip install numpy"
   ]
  },
  {
   "cell_type": "markdown",
   "metadata": {
    "id": "e86gdgsLD_pU"
   },
   "source": [
    "### Install Qiskit with the following command:"
   ]
  },
  {
   "cell_type": "code",
   "execution_count": 2,
   "metadata": {
    "colab": {
     "base_uri": "https://localhost:8080/"
    },
    "executionInfo": {
     "elapsed": 34795,
     "status": "ok",
     "timestamp": 1650284100604,
     "user": {
      "displayName": "Alain Chancé",
      "userId": "15344856735617693852"
     },
     "user_tz": -120
    },
    "id": "5W0P77WaD7Yh",
    "outputId": "3283b9eb-b0fe-4bee-dec3-92e25f822f3a"
   },
   "outputs": [
    {
     "name": "stdout",
     "output_type": "stream",
     "text": [
      "Requirement already satisfied: qiskit in /home/alain/miniconda3/lib/python3.13/site-packages (2.1.0)\n",
      "Requirement already satisfied: rustworkx>=0.15.0 in /home/alain/miniconda3/lib/python3.13/site-packages (from qiskit) (0.16.0)\n",
      "Requirement already satisfied: numpy<3,>=1.17 in /home/alain/miniconda3/lib/python3.13/site-packages (from qiskit) (2.2.6)\n",
      "Requirement already satisfied: scipy>=1.5 in /home/alain/miniconda3/lib/python3.13/site-packages (from qiskit) (1.16.0)\n",
      "Requirement already satisfied: dill>=0.3 in /home/alain/miniconda3/lib/python3.13/site-packages (from qiskit) (0.4.0)\n",
      "Requirement already satisfied: stevedore>=3.0.0 in /home/alain/miniconda3/lib/python3.13/site-packages (from qiskit) (5.4.1)\n",
      "Requirement already satisfied: typing-extensions in /home/alain/miniconda3/lib/python3.13/site-packages (from qiskit) (4.12.2)\n",
      "Requirement already satisfied: pbr>=2.0.0 in /home/alain/miniconda3/lib/python3.13/site-packages (from stevedore>=3.0.0->qiskit) (6.1.1)\n",
      "Requirement already satisfied: setuptools in /home/alain/miniconda3/lib/python3.13/site-packages (from pbr>=2.0.0->stevedore>=3.0.0->qiskit) (78.1.1)\n",
      "Note: you may need to restart the kernel to use updated packages.\n"
     ]
    }
   ],
   "source": [
    "pip install qiskit"
   ]
  },
  {
   "cell_type": "markdown",
   "metadata": {
    "id": "S3Qs6ee42nIF"
   },
   "source": [
    "### Install Qiskit visualization support with the following command:"
   ]
  },
  {
   "cell_type": "code",
   "execution_count": 3,
   "metadata": {
    "colab": {
     "base_uri": "https://localhost:8080/"
    },
    "executionInfo": {
     "elapsed": 10142,
     "status": "ok",
     "timestamp": 1650284110740,
     "user": {
      "displayName": "Alain Chancé",
      "userId": "15344856735617693852"
     },
     "user_tz": -120
    },
    "id": "QTMbSY-62kEN",
    "outputId": "64db98ec-d224-4079-c705-800b04ab1872"
   },
   "outputs": [
    {
     "name": "stdout",
     "output_type": "stream",
     "text": [
      "Requirement already satisfied: qiskit[visualization] in /home/alain/miniconda3/lib/python3.13/site-packages (2.1.0)\n",
      "Requirement already satisfied: rustworkx>=0.15.0 in /home/alain/miniconda3/lib/python3.13/site-packages (from qiskit[visualization]) (0.16.0)\n",
      "Requirement already satisfied: numpy<3,>=1.17 in /home/alain/miniconda3/lib/python3.13/site-packages (from qiskit[visualization]) (2.2.6)\n",
      "Requirement already satisfied: scipy>=1.5 in /home/alain/miniconda3/lib/python3.13/site-packages (from qiskit[visualization]) (1.16.0)\n",
      "Requirement already satisfied: dill>=0.3 in /home/alain/miniconda3/lib/python3.13/site-packages (from qiskit[visualization]) (0.4.0)\n",
      "Requirement already satisfied: stevedore>=3.0.0 in /home/alain/miniconda3/lib/python3.13/site-packages (from qiskit[visualization]) (5.4.1)\n",
      "Requirement already satisfied: typing-extensions in /home/alain/miniconda3/lib/python3.13/site-packages (from qiskit[visualization]) (4.12.2)\n",
      "Requirement already satisfied: matplotlib>=3.3 in /home/alain/miniconda3/lib/python3.13/site-packages (from qiskit[visualization]) (3.10.3)\n",
      "Requirement already satisfied: pydot in /home/alain/miniconda3/lib/python3.13/site-packages (from qiskit[visualization]) (4.0.1)\n",
      "Requirement already satisfied: Pillow>=4.2.1 in /home/alain/miniconda3/lib/python3.13/site-packages (from qiskit[visualization]) (11.3.0)\n",
      "Requirement already satisfied: pylatexenc>=1.4 in /home/alain/miniconda3/lib/python3.13/site-packages (from qiskit[visualization]) (2.10)\n",
      "Requirement already satisfied: seaborn>=0.9.0 in /home/alain/miniconda3/lib/python3.13/site-packages (from qiskit[visualization]) (0.13.2)\n",
      "Requirement already satisfied: sympy>=1.3 in /home/alain/miniconda3/lib/python3.13/site-packages (from qiskit[visualization]) (1.14.0)\n",
      "Requirement already satisfied: contourpy>=1.0.1 in /home/alain/miniconda3/lib/python3.13/site-packages (from matplotlib>=3.3->qiskit[visualization]) (1.3.2)\n",
      "Requirement already satisfied: cycler>=0.10 in /home/alain/miniconda3/lib/python3.13/site-packages (from matplotlib>=3.3->qiskit[visualization]) (0.12.1)\n",
      "Requirement already satisfied: fonttools>=4.22.0 in /home/alain/miniconda3/lib/python3.13/site-packages (from matplotlib>=3.3->qiskit[visualization]) (4.58.5)\n",
      "Requirement already satisfied: kiwisolver>=1.3.1 in /home/alain/miniconda3/lib/python3.13/site-packages (from matplotlib>=3.3->qiskit[visualization]) (1.4.8)\n",
      "Requirement already satisfied: packaging>=20.0 in /home/alain/miniconda3/lib/python3.13/site-packages (from matplotlib>=3.3->qiskit[visualization]) (24.2)\n",
      "Requirement already satisfied: pyparsing>=2.3.1 in /home/alain/miniconda3/lib/python3.13/site-packages (from matplotlib>=3.3->qiskit[visualization]) (3.2.3)\n",
      "Requirement already satisfied: python-dateutil>=2.7 in /home/alain/miniconda3/lib/python3.13/site-packages (from matplotlib>=3.3->qiskit[visualization]) (2.9.0.post0)\n",
      "Requirement already satisfied: six>=1.5 in /home/alain/miniconda3/lib/python3.13/site-packages (from python-dateutil>=2.7->matplotlib>=3.3->qiskit[visualization]) (1.17.0)\n",
      "Requirement already satisfied: pandas>=1.2 in /home/alain/miniconda3/lib/python3.13/site-packages (from seaborn>=0.9.0->qiskit[visualization]) (2.3.0)\n",
      "Requirement already satisfied: pytz>=2020.1 in /home/alain/miniconda3/lib/python3.13/site-packages (from pandas>=1.2->seaborn>=0.9.0->qiskit[visualization]) (2025.2)\n",
      "Requirement already satisfied: tzdata>=2022.7 in /home/alain/miniconda3/lib/python3.13/site-packages (from pandas>=1.2->seaborn>=0.9.0->qiskit[visualization]) (2025.2)\n",
      "Requirement already satisfied: pbr>=2.0.0 in /home/alain/miniconda3/lib/python3.13/site-packages (from stevedore>=3.0.0->qiskit[visualization]) (6.1.1)\n",
      "Requirement already satisfied: setuptools in /home/alain/miniconda3/lib/python3.13/site-packages (from pbr>=2.0.0->stevedore>=3.0.0->qiskit[visualization]) (78.1.1)\n",
      "Requirement already satisfied: mpmath<1.4,>=1.1.0 in /home/alain/miniconda3/lib/python3.13/site-packages (from sympy>=1.3->qiskit[visualization]) (1.3.0)\n",
      "Note: you may need to restart the kernel to use updated packages.\n"
     ]
    }
   ],
   "source": [
    "pip install 'qiskit[visualization]'"
   ]
  },
  {
   "cell_type": "markdown",
   "metadata": {},
   "source": [
    "### Install qiskit.utils with the following command (V2):"
   ]
  },
  {
   "cell_type": "code",
   "execution_count": 4,
   "metadata": {},
   "outputs": [
    {
     "name": "stdout",
     "output_type": "stream",
     "text": [
      "Requirement already satisfied: qiskit.utils in /home/alain/miniconda3/lib/python3.13/site-packages (1.2.1)\n",
      "Requirement already satisfied: qiskit>=0.34.2 in /home/alain/miniconda3/lib/python3.13/site-packages (from qiskit.utils) (2.1.0)\n",
      "Requirement already satisfied: rustworkx>=0.15.0 in /home/alain/miniconda3/lib/python3.13/site-packages (from qiskit>=0.34.2->qiskit.utils) (0.16.0)\n",
      "Requirement already satisfied: numpy<3,>=1.17 in /home/alain/miniconda3/lib/python3.13/site-packages (from qiskit>=0.34.2->qiskit.utils) (2.2.6)\n",
      "Requirement already satisfied: scipy>=1.5 in /home/alain/miniconda3/lib/python3.13/site-packages (from qiskit>=0.34.2->qiskit.utils) (1.16.0)\n",
      "Requirement already satisfied: dill>=0.3 in /home/alain/miniconda3/lib/python3.13/site-packages (from qiskit>=0.34.2->qiskit.utils) (0.4.0)\n",
      "Requirement already satisfied: stevedore>=3.0.0 in /home/alain/miniconda3/lib/python3.13/site-packages (from qiskit>=0.34.2->qiskit.utils) (5.4.1)\n",
      "Requirement already satisfied: typing-extensions in /home/alain/miniconda3/lib/python3.13/site-packages (from qiskit>=0.34.2->qiskit.utils) (4.12.2)\n",
      "Requirement already satisfied: pbr>=2.0.0 in /home/alain/miniconda3/lib/python3.13/site-packages (from stevedore>=3.0.0->qiskit>=0.34.2->qiskit.utils) (6.1.1)\n",
      "Requirement already satisfied: setuptools in /home/alain/miniconda3/lib/python3.13/site-packages (from pbr>=2.0.0->stevedore>=3.0.0->qiskit>=0.34.2->qiskit.utils) (78.1.1)\n",
      "Note: you may need to restart the kernel to use updated packages.\n"
     ]
    }
   ],
   "source": [
    "pip install qiskit.utils"
   ]
  },
  {
   "cell_type": "markdown",
   "metadata": {
    "id": "LM60UkgZVLaI"
   },
   "source": [
    "### Install Qiskit Nature with the following command:"
   ]
  },
  {
   "cell_type": "code",
   "execution_count": 5,
   "metadata": {
    "colab": {
     "base_uri": "https://localhost:8080/"
    },
    "executionInfo": {
     "elapsed": 7843,
     "status": "ok",
     "timestamp": 1650284118579,
     "user": {
      "displayName": "Alain Chancé",
      "userId": "15344856735617693852"
     },
     "user_tz": -120
    },
    "id": "bXRZVmawVN3K",
    "outputId": "7b2fea9b-39f6-4dc9-b7ae-d9ebd83ac7bc"
   },
   "outputs": [
    {
     "name": "stdout",
     "output_type": "stream",
     "text": [
      "Requirement already satisfied: qiskit-nature in /home/alain/miniconda3/lib/python3.13/site-packages (0.7.2)\n",
      "Requirement already satisfied: qiskit>=0.44 in /home/alain/miniconda3/lib/python3.13/site-packages (from qiskit-nature) (2.1.0)\n",
      "Requirement already satisfied: qiskit-algorithms>=0.2.1 in /home/alain/miniconda3/lib/python3.13/site-packages (from qiskit-nature) (0.3.1)\n",
      "Requirement already satisfied: scipy>=1.4 in /home/alain/miniconda3/lib/python3.13/site-packages (from qiskit-nature) (1.16.0)\n",
      "Requirement already satisfied: numpy>=1.17 in /home/alain/miniconda3/lib/python3.13/site-packages (from qiskit-nature) (2.2.6)\n",
      "Requirement already satisfied: psutil>=5 in /home/alain/miniconda3/lib/python3.13/site-packages (from qiskit-nature) (7.0.0)\n",
      "Requirement already satisfied: setuptools>=40.1.0 in /home/alain/miniconda3/lib/python3.13/site-packages (from qiskit-nature) (78.1.1)\n",
      "Requirement already satisfied: typing-extensions in /home/alain/miniconda3/lib/python3.13/site-packages (from qiskit-nature) (4.12.2)\n",
      "Requirement already satisfied: h5py in /home/alain/miniconda3/lib/python3.13/site-packages (from qiskit-nature) (3.14.0)\n",
      "Requirement already satisfied: rustworkx>=0.12 in /home/alain/miniconda3/lib/python3.13/site-packages (from qiskit-nature) (0.16.0)\n",
      "Requirement already satisfied: dill>=0.3 in /home/alain/miniconda3/lib/python3.13/site-packages (from qiskit>=0.44->qiskit-nature) (0.4.0)\n",
      "Requirement already satisfied: stevedore>=3.0.0 in /home/alain/miniconda3/lib/python3.13/site-packages (from qiskit>=0.44->qiskit-nature) (5.4.1)\n",
      "Requirement already satisfied: pbr>=2.0.0 in /home/alain/miniconda3/lib/python3.13/site-packages (from stevedore>=3.0.0->qiskit>=0.44->qiskit-nature) (6.1.1)\n",
      "Note: you may need to restart the kernel to use updated packages.\n"
     ]
    }
   ],
   "source": [
    "pip install qiskit-nature"
   ]
  },
  {
   "cell_type": "markdown",
   "metadata": {
    "id": "pREHzIBxgoGB"
   },
   "source": [
    "### Install PySCF with the following command:"
   ]
  },
  {
   "cell_type": "code",
   "execution_count": 6,
   "metadata": {
    "colab": {
     "base_uri": "https://localhost:8080/"
    },
    "executionInfo": {
     "elapsed": 18018,
     "status": "ok",
     "timestamp": 1650284136593,
     "user": {
      "displayName": "Alain Chancé",
      "userId": "15344856735617693852"
     },
     "user_tz": -120
    },
    "id": "Tu3pFrmffNhZ",
    "outputId": "f162e96e-92f2-4e25-e32a-5af4e9412903"
   },
   "outputs": [
    {
     "name": "stdout",
     "output_type": "stream",
     "text": [
      "Requirement already satisfied: pyscf in /home/alain/miniconda3/lib/python3.13/site-packages (2.9.0)\n",
      "Requirement already satisfied: numpy!=1.16,!=1.17,>=1.13 in /home/alain/miniconda3/lib/python3.13/site-packages (from pyscf) (2.2.6)\n",
      "Requirement already satisfied: scipy>=1.6.0 in /home/alain/miniconda3/lib/python3.13/site-packages (from pyscf) (1.16.0)\n",
      "Requirement already satisfied: h5py>=2.7 in /home/alain/miniconda3/lib/python3.13/site-packages (from pyscf) (3.14.0)\n",
      "Requirement already satisfied: setuptools in /home/alain/miniconda3/lib/python3.13/site-packages (from pyscf) (78.1.1)\n",
      "Note: you may need to restart the kernel to use updated packages.\n"
     ]
    }
   ],
   "source": [
    "pip install pyscf"
   ]
  },
  {
   "cell_type": "markdown",
   "metadata": {
    "id": "OxaMfQHwEOdg"
   },
   "source": [
    "### Import NumPy with the following command:"
   ]
  },
  {
   "cell_type": "code",
   "execution_count": 7,
   "metadata": {
    "id": "QhaIzlQ5EN3r"
   },
   "outputs": [],
   "source": [
    "import numpy as np"
   ]
  },
  {
   "cell_type": "markdown",
   "metadata": {
    "id": "6PSJLYf6cMeH"
   },
   "source": [
    "### Import Matplotlib with the following command:"
   ]
  },
  {
   "cell_type": "code",
   "execution_count": 8,
   "metadata": {
    "id": "nJSPiCdFcG-9"
   },
   "outputs": [],
   "source": [
    "import matplotlib.pyplot as plt"
   ]
  },
  {
   "cell_type": "markdown",
   "metadata": {},
   "source": [
    "## Set boolean qv1 to True if Qiskit version < 2"
   ]
  },
  {
   "cell_type": "code",
   "execution_count": 9,
   "metadata": {},
   "outputs": [
    {
     "name": "stdout",
     "output_type": "stream",
     "text": [
      "Qiskit version: 2.1.0\n"
     ]
    }
   ],
   "source": [
    "import qiskit\n",
    "qv = qiskit.__version__\n",
    "print(f\"Qiskit version: {qv}\")\n",
    "qv1 = int(qv[0]) < 2"
   ]
  },
  {
   "cell_type": "markdown",
   "metadata": {},
   "source": [
    "## Write primitive_version.py into qiskit_algorithms"
   ]
  },
  {
   "cell_type": "code",
   "execution_count": 10,
   "metadata": {},
   "outputs": [],
   "source": [
    "#------------------------\n",
    "# Get site_packages path\n",
    "#------------------------\n",
    "import site\n",
    "sitepackages = site.getsitepackages()\n",
    "\n",
    "#---------------------------------------------------\n",
    "# Write primitive_version.py into qiskit_algorithms\n",
    "#---------------------------------------------------\n",
    "with open(sitepackages[0] + '/qiskit_algorithms/primitive_version.py', \"w\") as file:\n",
    "    # Write a single line to the file\n",
    "    if qv1:\n",
    "        file.write(\"primitive_v2 = False\")\n",
    "    else:\n",
    "        file.write(\"primitive_v2 = True\")"
   ]
  },
  {
   "cell_type": "markdown",
   "metadata": {
    "id": "N9_Mtr8sEl3I"
   },
   "source": [
    "### Import the required functions and class methods with the following commands: \n",
    "The array_to_latex function() returns a Latex representation of a complex array with dimension 1 or 2:"
   ]
  },
  {
   "cell_type": "code",
   "execution_count": 11,
   "metadata": {
    "id": "wplPi--1ogzl"
   },
   "outputs": [],
   "source": [
    "from qiskit.visualization import array_to_latex, plot_bloch_vector, plot_bloch_multivector, plot_state_qsphere, plot_state_city\n",
    "from qiskit import QuantumRegister, ClassicalRegister, QuantumCircuit, transpile\n",
    "import qiskit.quantum_info as qi\n",
    "from qiskit.circuit.library import Initialize\n",
    "from qiskit.quantum_info import SparsePauliOp"
   ]
  },
  {
   "cell_type": "markdown",
   "metadata": {
    "id": "dVEh1h6Nb975"
   },
   "source": [
    "### Import Qiskit Nature libraries with the following commands:"
   ]
  },
  {
   "cell_type": "code",
   "execution_count": 12,
   "metadata": {
    "id": "Hhf24btZbj7x"
   },
   "outputs": [
    {
     "name": "stdout",
     "output_type": "stream",
     "text": [
      "\n",
      "qnspsa.py - Using Sampler V2 primitives\n",
      "\n",
      "compute_uncompute.py - Using Sampler V2 primitives\n",
      "\n",
      "phase_estimation.py - Using Sampler V2 primitives\n",
      "\n",
      "hamiltonian_phase_estimation.py - Using Sampler V2 primitives\n",
      "\n",
      "phase_estimation.py - Using Sampler V2 primitives\n",
      "\n",
      "observables_evaluator.py - Using Sampler V2 primitives\n",
      "\n",
      "vqe - Using Qiskit Runtime V2 primitives\n"
     ]
    }
   ],
   "source": [
    "# Electronic Structure Problems with v0.5\n",
    "# https://qiskit.org/documentation/nature/migration/00b_Electronic_structure_with_v0.5.html\n",
    "from qiskit_nature.second_q.formats.molecule_info import MoleculeInfo\n",
    "from qiskit_nature.units import DistanceUnit\n",
    "from qiskit_nature.second_q.drivers import PySCFDriver\n",
    "\n",
    "from qiskit_nature.second_q.mappers import ParityMapper, JordanWignerMapper, BravyiKitaevMapper\n",
    "from qiskit_nature.second_q.properties import ParticleNumber\n",
    "from qiskit_nature.second_q.transformers import ActiveSpaceTransformer, FreezeCoreTransformer\n",
    "from qiskit_nature.second_q.operators import FermionicOp\n",
    "\n",
    "# https://qiskit.org/ecosystem/nature/migration/0.6_c_qubit_converter.html#paulisumop-vs-sparsepauliop\n",
    "from qiskit_nature import settings"
   ]
  },
  {
   "cell_type": "markdown",
   "metadata": {
    "id": "znAo5E9yi4n7"
   },
   "source": [
    "### Import the Qiskit Nature property framework with the following command:"
   ]
  },
  {
   "cell_type": "code",
   "execution_count": 13,
   "metadata": {
    "id": "P0qUpRxujCJq"
   },
   "outputs": [],
   "source": [
    "#from qiskit_nature.properties import Property, GroupedProperty\n",
    "# https://qiskit.org/documentation/nature/migration/00b_Electronic_structure_with_v0.5.html\n",
    "from qiskit_nature.second_q.operators import ElectronicIntegrals"
   ]
  },
  {
   "cell_type": "markdown",
   "metadata": {
    "id": "l2y158KtnqIU"
   },
   "source": [
    "### Import math libraries with the following command:"
   ]
  },
  {
   "cell_type": "code",
   "execution_count": 14,
   "metadata": {
    "id": "opzSQYFbnvXg"
   },
   "outputs": [],
   "source": [
    "import cmath\n",
    "import math"
   ]
  },
  {
   "cell_type": "markdown",
   "metadata": {
    "id": "bR7XnjUPREnY"
   },
   "source": [
    "# 4.1. Born-Oppenheimer approximation"
   ]
  },
  {
   "cell_type": "markdown",
   "metadata": {
    "id": "sKjvVTd2T9ae"
   },
   "source": [
    "# 4.2. Fock space"
   ]
  },
  {
   "cell_type": "markdown",
   "metadata": {
    "id": "MmPXLiD6Yub2"
   },
   "source": [
    "# 4.3. Fermionic creation and annihilation operators\n",
    "\n",
    "\n",
    "## 4.3.1. Fermion creation operator\n",
    "\n",
    "\n",
    "## 4.3.2. Fermion annihilation operator"
   ]
  },
  {
   "cell_type": "markdown",
   "metadata": {
    "id": "DPtMAaiifRwU"
   },
   "source": [
    "# 4.4. Molecular Hamiltonian in the Hartree-Fock orbitals basis"
   ]
  },
  {
   "cell_type": "markdown",
   "metadata": {
    "id": "L8H5B6zkc89x"
   },
   "source": [
    "# 4.5. Basis sets\n",
    "\n",
    "\n",
    "## 4.5.1. Slater-type orbitals"
   ]
  },
  {
   "cell_type": "code",
   "execution_count": 15,
   "metadata": {
    "colab": {
     "base_uri": "https://localhost:8080/",
     "height": 228
    },
    "executionInfo": {
     "elapsed": 619,
     "status": "ok",
     "timestamp": 1650284138371,
     "user": {
      "displayName": "Alain Chancé",
      "userId": "15344856735617693852"
     },
     "user_tz": -120
    },
    "id": "YxLg5MjXW_Si",
    "outputId": "ba64b9d8-26ee-4327-8214-baa4ae2cb277"
   },
   "outputs": [
    {
     "data": {
      "text/plain": [
       "<matplotlib.legend.Legend at 0x7f7b445de900>"
      ]
     },
     "execution_count": 15,
     "metadata": {},
     "output_type": "execute_result"
    },
    {
     "data": {
      "image/png": "[encoded data removed]",
      "text/plain": [
       "<Figure size 400x300 with 1 Axes>"
      ]
     },
     "metadata": {},
     "output_type": "display_data"
    }
   ],
   "source": [
    "x = np.linspace(-5,5,num=1000)\n",
    "r = abs(x)\n",
    "\n",
    "alpha = 1.0\n",
    "\n",
    "R = 2*alpha**(1.5)*np.exp(-alpha*r)\n",
    "\n",
    "plt.figure(figsize=(4,3))\n",
    "plt.plot(x,R,label=\"STO 1s H\")\n",
    "plt.legend()"
   ]
  },
  {
   "cell_type": "markdown",
   "metadata": {
    "id": "cYNiTDlDaWSS"
   },
   "source": [
    "Figure 4.5 – Plot of the radial part of the Slater-type orbital for the $1s$ orbital of the hydrogen atom"
   ]
  },
  {
   "cell_type": "code",
   "execution_count": 16,
   "metadata": {
    "colab": {
     "base_uri": "https://localhost:8080/",
     "height": 228
    },
    "executionInfo": {
     "elapsed": 719,
     "status": "ok",
     "timestamp": 1650284139079,
     "user": {
      "displayName": "Alain Chancé",
      "userId": "15344856735617693852"
     },
     "user_tz": -120
    },
    "id": "Kn80lcaaYItZ",
    "outputId": "85e46c30-72e1-421d-8020-9a50f5d64767"
   },
   "outputs": [
    {
     "data": {
      "text/plain": [
       "<matplotlib.legend.Legend at 0x7f7b443e11d0>"
      ]
     },
     "execution_count": 16,
     "metadata": {},
     "output_type": "execute_result"
    },
    {
     "data": {
      "image/png": "[encoded data removed]",
      "text/plain": [
       "<Figure size 400x300 with 1 Axes>"
      ]
     },
     "metadata": {},
     "output_type": "display_data"
    }
   ],
   "source": [
    "x = np.linspace(-7,7,num=1000)\n",
    "r1 = abs(x+2.5)\n",
    "r2 = abs(x-2.5)\n",
    "\n",
    "alpha = 1.0\n",
    "\n",
    "R = 2*alpha**(1.5)*np.exp(-alpha*r1)-2*alpha**(1.5)*np.exp(-alpha*r2)\n",
    "\n",
    "plt.figure(figsize=(4,3))\n",
    "plt.plot(x,R,label=\"Antisymmetric STO H2\")\n",
    "plt.legend()"
   ]
  },
  {
   "cell_type": "markdown",
   "metadata": {
    "id": "bHIDx0-7fNVm"
   },
   "source": [
    "Figure 4.6 – Plot of the anti-symmetric wave function of the hydrogen molecule\n",
    "\n",
    "## 4.5.2. Gaussian-type orbitals"
   ]
  },
  {
   "cell_type": "code",
   "execution_count": 17,
   "metadata": {
    "colab": {
     "base_uri": "https://localhost:8080/",
     "height": 228
    },
    "executionInfo": {
     "elapsed": 21,
     "status": "ok",
     "timestamp": 1650284139080,
     "user": {
      "displayName": "Alain Chancé",
      "userId": "15344856735617693852"
     },
     "user_tz": -120
    },
    "id": "dsa-Ax0z9KdY",
    "outputId": "26837865-4ab0-4714-d5be-fc69ffca1b1a"
   },
   "outputs": [
    {
     "data": {
      "text/plain": [
       "<matplotlib.legend.Legend at 0x7f7b44258a50>"
      ]
     },
     "execution_count": 17,
     "metadata": {},
     "output_type": "execute_result"
    },
    {
     "data": {
      "image/png": "[encoded data removed]",
      "text/plain": [
       "<Figure size 500x300 with 1 Axes>"
      ]
     },
     "metadata": {},
     "output_type": "display_data"
    }
   ],
   "source": [
    "x = np.linspace(-7,7,num=1000)\n",
    "r = abs(x)\n",
    "\n",
    "c = [0.444635,0.535328,0.154329]\n",
    "alpha = [0.109818,0.405771,2.227660]\n",
    "\n",
    "psi = 0\n",
    "for k in range(3):\n",
    "  psi += c[k]*(2*alpha[k]/np.pi)**0.75 * np.exp(-alpha[k]*r**2)\n",
    "\n",
    "plt.figure(figsize=(5,3))\n",
    "plt.plot(x,psi,label=\"STO-3G 1s H\")\n",
    "plt.legend()"
   ]
  },
  {
   "cell_type": "markdown",
   "metadata": {
    "id": "T7keT_P5dHEz"
   },
   "source": [
    "Figure 4.7 – Plot of the STO-3G function for the $1s$ orbital of the hydrogen atom"
   ]
  },
  {
   "cell_type": "code",
   "execution_count": 18,
   "metadata": {
    "colab": {
     "base_uri": "https://localhost:8080/",
     "height": 228
    },
    "executionInfo": {
     "elapsed": 15,
     "status": "ok",
     "timestamp": 1650284139081,
     "user": {
      "displayName": "Alain Chancé",
      "userId": "15344856735617693852"
     },
     "user_tz": -120
    },
    "id": "yMk0-ZA2dhFP",
    "outputId": "9016a6e9-efbd-48b8-d990-5847c23e0cf3"
   },
   "outputs": [
    {
     "data": {
      "text/plain": [
       "<matplotlib.legend.Legend at 0x7f7b442b7890>"
      ]
     },
     "execution_count": 18,
     "metadata": {},
     "output_type": "execute_result"
    },
    {
     "data": {
      "image/png": "[encoded data removed]",
      "text/plain": [
       "<Figure size 500x300 with 1 Axes>"
      ]
     },
     "metadata": {},
     "output_type": "display_data"
    }
   ],
   "source": [
    "x = np.linspace(-7,7,num=1000)\n",
    "r1 = abs(x+2.5)\n",
    "r2 = abs(x-2.5)\n",
    "\n",
    "c = [0.444635,0.535328,0.154329]\n",
    "alpha = [0.109818,0.405771,2.227660]\n",
    "\n",
    "psi = 0\n",
    "for k in range(3):\n",
    "  psi += c[k]*(2*alpha[k]/np.pi)**0.75 * np.exp(-alpha[k]*r1**2) \\\n",
    "  - c[k]*(2*alpha[k]/np.pi)**0.75 * np.exp(-alpha[k]*r2**2)\n",
    "\n",
    "plt.figure(figsize=(5,3))\n",
    "plt.plot(x,psi,label=\"Antisymmetric STO-3G H2\")\n",
    "plt.legend()"
   ]
  },
  {
   "cell_type": "markdown",
   "metadata": {
    "id": "LRI5hmjBdDZz"
   },
   "source": [
    "Figure 4.8 – Plot of the antisymmetric STO-3G function for the $1s$ orbital of the hydrogen molecule\n",
    "\n",
    "# 4.6. Constructing a fermionic Hamiltonian with Qiskit Nature"
   ]
  },
  {
   "cell_type": "markdown",
   "metadata": {
    "id": "I-KDZaOKgguX"
   },
   "source": [
    "## 4.6.1. Constructing a fermionic Hamiltonian operator of the hydrogen molecule"
   ]
  },
  {
   "cell_type": "code",
   "execution_count": 19,
   "metadata": {
    "id": "19sGFlC3gguY"
   },
   "outputs": [],
   "source": [
    "# Electronic Structure Problems with v0.5\n",
    "# https://qiskit.org/documentation/nature/migration/00b_Electronic_structure_with_v0.5.html\n",
    "H2_atoms = [\"H\", \"H\"]\n",
    "H2_coords = [(0.0, 0.0, 0.0), (0.0, 0.0, 0.735)]\n",
    "H2_charge = 0\n",
    "H2_multiplicity = 1\n",
    "H2_atom_pair=(1, 0)\n",
    "H2_info_dict={'atoms':H2_atoms, 'coords':H2_coords, 'charge':H2_charge, 'multiplicity':H2_multiplicity, 'atom_pair':H2_atom_pair}\n",
    "\n",
    "H2_moleculeinfo = MoleculeInfo(H2_atoms, H2_coords, charge=H2_charge, multiplicity=H2_multiplicity)"
   ]
  },
  {
   "cell_type": "code",
   "execution_count": 20,
   "metadata": {
    "id": "T-yNF3Ffggua"
   },
   "outputs": [],
   "source": [
    "H2_driver = PySCFDriver.from_molecule(H2_moleculeinfo, basis=\"sto3g\")"
   ]
  },
  {
   "cell_type": "code",
   "execution_count": 21,
   "metadata": {
    "id": "LuBVRwpRfoqM"
   },
   "outputs": [],
   "source": [
    "H2_problem = H2_driver.run()"
   ]
  },
  {
   "cell_type": "code",
   "execution_count": 22,
   "metadata": {
    "id": "Y5LqycfQj8cl"
   },
   "outputs": [],
   "source": [
    "H2_fermionic_hamiltonian = H2_problem.hamiltonian"
   ]
  },
  {
   "cell_type": "code",
   "execution_count": 23,
   "metadata": {
    "id": "k8U-VwpFuQeY"
   },
   "outputs": [],
   "source": [
    "H2_second_q_op = H2_fermionic_hamiltonian.second_q_op()"
   ]
  },
  {
   "cell_type": "code",
   "execution_count": 24,
   "metadata": {
    "id": "T7TaBVkbkaoq"
   },
   "outputs": [],
   "source": [
    "def get_particle_number(problem, show=True):\n",
    "  \n",
    "  # https://qiskit.org/documentation/nature/stubs/qiskit_nature.second_q.problems.ElectronicStructureProblem.num_spin_orbitals.html\n",
    "  num_spin_orbitals = problem.num_spin_orbitals\n",
    "  num_particles = problem.num_particles\n",
    "  \n",
    "  if show:\n",
    "    print(\"Number of particles: {}\".format(num_particles))\n",
    "    print(\"Number of spin orbitals: {}\".format(num_spin_orbitals))\n",
    "    \n",
    "  return num_particles, num_spin_orbitals"
   ]
  },
  {
   "cell_type": "code",
   "execution_count": 25,
   "metadata": {
    "colab": {
     "base_uri": "https://localhost:8080/"
    },
    "executionInfo": {
     "elapsed": 37,
     "status": "ok",
     "timestamp": 1650284139434,
     "user": {
      "displayName": "Alain Chancé",
      "userId": "15344856735617693852"
     },
     "user_tz": -120
    },
    "id": "eZmUL_fNlCKW",
    "outputId": "8efa089a-1e25-4a0e-c3d9-441a97b698a2"
   },
   "outputs": [
    {
     "name": "stdout",
     "output_type": "stream",
     "text": [
      "Hydrogen molecule, basis: sto3g, Hartree-Fock calculation\n",
      "Number of particles: (1, 1)\n",
      "Number of spin orbitals: 4\n"
     ]
    }
   ],
   "source": [
    "print(\"Hydrogen molecule, basis: sto3g, Hartree-Fock calculation\")\n",
    "H2_num_particles, H2_num_spin_orbitals = get_particle_number(H2_problem)"
   ]
  },
  {
   "cell_type": "markdown",
   "metadata": {
    "id": "0rrskq3fLvxj"
   },
   "source": [
    "Figure 4.9 – Hydrogen molecule, Hartree-Fock calculation for the basis STO-3G, Particle Number"
   ]
  },
  {
   "cell_type": "code",
   "execution_count": 26,
   "metadata": {},
   "outputs": [
    {
     "name": "stdout",
     "output_type": "stream",
     "text": [
      "-1.116998996754004\n"
     ]
    }
   ],
   "source": [
    "H2_reference_energy = H2_problem.reference_energy\n",
    "print(H2_reference_energy)"
   ]
  },
  {
   "cell_type": "markdown",
   "metadata": {
    "id": "5b-cLAPUgguc"
   },
   "source": [
    "Figure 4.12 – List of labels used by the Qiskit FermionicOp class"
   ]
  },
  {
   "cell_type": "code",
   "execution_count": 27,
   "metadata": {
    "colab": {
     "base_uri": "https://localhost:8080/"
    },
    "executionInfo": {
     "elapsed": 27,
     "status": "ok",
     "timestamp": 1650284139436,
     "user": {
      "displayName": "Alain Chancé",
      "userId": "15344856735617693852"
     },
     "user_tz": -120
    },
    "id": "n6lxmST7cLOD",
    "outputId": "d765f761-768a-4dc2-efd1-2405c8975dfe"
   },
   "outputs": [
    {
     "name": "stdout",
     "output_type": "stream",
     "text": [
      "Fermionic Operator\n",
      "number spin orbitals=4, number terms=36\n",
      "  0.33785507740175813 * ( +_0 +_0 -_0 -_0 )\n",
      "+ 0.3322908651276482 * ( +_0 +_1 -_1 -_0 )\n",
      "+ 0.33785507740175813 * ( +_0 +_2 -_2 -_0 )\n",
      "+ 0.3322908651276482 * ( +_0 +_3 -_3 -_0 )\n",
      "+ 0.09046559989211572 * ( +_0 +_0 -_1 -_1 )\n",
      "+ 0.09046559989211572 * ( +_0 +_1 -_0 -_1 )\n",
      "+ 0.09046559989211572 * ( +_0 +_2 -_3 -_1 )\n",
      "+ 0.09046559989211572 * ( +_0 +_3 -_2 -_1 )\n",
      "+ 0.09046559989211572 * ( +_1 +_0 -_1 -_0 )\n",
      "+ 0.09046559989211572 * ( +_1 +_1 -_0 -_0 )\n",
      "+ 0.09046559989211572 * ( +_1 +_2 -_3 -_0 )\n",
      "+ 0.09046559989211572 * ( +_1 +_3 -_2 -_0 )\n",
      "+ 0.3322908651276482 * ( +_1 +_0 -_0 -_1 )\n",
      "+ 0.34928686136600884 * ( +_1 +_1 -_1 -_1 )\n",
      "+ 0.3322908651276482 * ( +_1 +_2 -_2 -_1 )\n",
      "+ 0.34928686136600884 * ( +_1 +_3 -_3 -_1 )\n",
      "+ 0.33785507740175813 * ( +_2 +_0 -_0 -_2 )\n",
      "+ 0.3322908651276482 * ( +_2 +_1 -_1 -_2 )\n",
      "+ 0.33785507740175813 * ( +_2 +_2 -_2 -_2 )\n",
      "+ 0.3322908651276482 * ( +_2 +_3 -_3 -_2 )\n",
      "...\n"
     ]
    }
   ],
   "source": [
    "# We print the first 20 terms of the fermionic Hamiltonian operator of the molecule\n",
    "# https://qiskit.org/documentation/nature/migration/00b_Electronic_structure_with_v0.5.html\n",
    "print(\"\\n\".join(str(H2_second_q_op).splitlines()[:22] + [\"...\"]))"
   ]
  },
  {
   "cell_type": "markdown",
   "metadata": {
    "id": "XO8XjnclvBX-"
   },
   "source": [
    "Figure 4.13 – Fermionic Hamiltonian operator of the hydrogen molecule"
   ]
  },
  {
   "cell_type": "code",
   "execution_count": 28,
   "metadata": {
    "colab": {
     "base_uri": "https://localhost:8080/"
    },
    "executionInfo": {
     "elapsed": 20,
     "status": "ok",
     "timestamp": 1650284139436,
     "user": {
      "displayName": "Alain Chancé",
      "userId": "15344856735617693852"
     },
     "user_tz": -120
    },
    "id": "UuhUOBHSuw_I",
    "outputId": "50c17869-3bec-46f0-c8b6-7ab92b254084"
   },
   "outputs": [],
   "source": [
    "# The to_matrix method is deprecated as of version 0.6.0 and will be removed no sooner than 3 months after the release\n",
    "#print(H2_second_q_op.to_matrix())"
   ]
  },
  {
   "cell_type": "markdown",
   "metadata": {
    "id": "ZHzOSEKRqxTQ"
   },
   "source": [
    "Figure 4.14 – Matrix representation of the fermionic Hamiltonian operator of the hydrogen molecule in the Fock basis\n",
    "\n",
    "Figure 4.15 – Particle number operators of the fermionic Hamiltonian of the hydrogen molecule\n",
    "\n",
    "Figure 4.16 – Two-electron exchange operators of the fermionic Hamiltonian of the hydrogen molecule"
   ]
  },
  {
   "cell_type": "markdown",
   "metadata": {
    "id": "Lw3qe3OpSK80"
   },
   "source": [
    "## 4.6.2. Constructing a fermionic Hamiltonian operator of the lithium hydride molecule"
   ]
  },
  {
   "cell_type": "code",
   "execution_count": 29,
   "metadata": {
    "id": "oDXsG7ac0F1J"
   },
   "outputs": [],
   "source": [
    "LiH_atoms = [\"Li\", \"H\"]\n",
    "LiH_coords = [(0.0, 0.0, 0.0), (0.0, 0.0, 1.5474)]\n",
    "LiH_charge = 0\n",
    "LiH_multiplicity = 1\n",
    "LiH_atom_pair=(1,0)\n",
    "LiH_info_dict={'atoms':LiH_atoms, 'coords':LiH_coords, 'charge':LiH_charge, 'multiplicity':LiH_multiplicity, 'atom_pair':LiH_atom_pair}\n",
    "\n",
    "LiH_moleculeinfo = MoleculeInfo(LiH_atoms, LiH_coords, charge=LiH_charge, multiplicity=LiH_multiplicity)"
   ]
  },
  {
   "cell_type": "code",
   "execution_count": 30,
   "metadata": {
    "id": "8HpcPjmzV04e"
   },
   "outputs": [],
   "source": [
    "LiH_driver = PySCFDriver.from_molecule(LiH_moleculeinfo, basis=\"sto3g\")"
   ]
  },
  {
   "cell_type": "code",
   "execution_count": 31,
   "metadata": {
    "id": "2vfOkSzYVPxt"
   },
   "outputs": [],
   "source": [
    "LiH_problem = LiH_driver.run()"
   ]
  },
  {
   "cell_type": "code",
   "execution_count": 32,
   "metadata": {},
   "outputs": [],
   "source": [
    "#https://qiskit.org/documentation/nature/migration/00b_Electronic_structure_with_v0.5.html\n",
    "transformer = FreezeCoreTransformer(freeze_core=True, remove_orbitals=[4, 3])\n",
    "LiH_problem = transformer.transform(LiH_problem)"
   ]
  },
  {
   "cell_type": "code",
   "execution_count": 33,
   "metadata": {},
   "outputs": [],
   "source": [
    "LiH_fermionic_hamiltonian = LiH_problem.hamiltonian"
   ]
  },
  {
   "cell_type": "code",
   "execution_count": 34,
   "metadata": {
    "id": "wumUN2WkA4X1"
   },
   "outputs": [],
   "source": [
    "LiH_second_q_op = LiH_fermionic_hamiltonian.second_q_op()"
   ]
  },
  {
   "cell_type": "code",
   "execution_count": 35,
   "metadata": {
    "colab": {
     "base_uri": "https://localhost:8080/"
    },
    "executionInfo": {
     "elapsed": 36,
     "status": "ok",
     "timestamp": 1650284139708,
     "user": {
      "displayName": "Alain Chancé",
      "userId": "15344856735617693852"
     },
     "user_tz": -120
    },
    "id": "QQc-uDMHwZ8H",
    "outputId": "4881a145-c059-4392-8301-a31a5e532db0"
   },
   "outputs": [
    {
     "name": "stdout",
     "output_type": "stream",
     "text": [
      "Lithium hydride molecule, basis: sto3g, Hartree-Fock calculation\n",
      "Parameters freeze_core=True, remove_orbitals=[4, 3]\n",
      "Number of particles: (1, 1)\n",
      "Number of spin orbitals: 6\n"
     ]
    }
   ],
   "source": [
    "print(\"Lithium hydride molecule, basis: sto3g, Hartree-Fock calculation\")\n",
    "print(\"Parameters freeze_core=True, remove_orbitals=[4, 3]\")\n",
    "LiH_particle_number = get_particle_number(LiH_problem)"
   ]
  },
  {
   "cell_type": "markdown",
   "metadata": {
    "id": "M2jf-uCib4P_"
   },
   "source": [
    "Figure 4.17 – Lithium hydride molecule, Hartree-Fock calculation for the basis STO-3G, Particle Number"
   ]
  },
  {
   "cell_type": "code",
   "execution_count": 36,
   "metadata": {
    "colab": {
     "base_uri": "https://localhost:8080/"
    },
    "executionInfo": {
     "elapsed": 14,
     "status": "ok",
     "timestamp": 1650284139708,
     "user": {
      "displayName": "Alain Chancé",
      "userId": "15344856735617693852"
     },
     "user_tz": -120
    },
    "id": "d00asZLvKn3a",
    "outputId": "b7ad8acc-3d07-4e93-e593-9aa597a69cde"
   },
   "outputs": [
    {
     "name": "stdout",
     "output_type": "stream",
     "text": [
      "-7.8631138827964095\n"
     ]
    }
   ],
   "source": [
    "LiH_reference_energy = LiH_problem.reference_energy\n",
    "print(LiH_reference_energy)"
   ]
  },
  {
   "cell_type": "code",
   "execution_count": 37,
   "metadata": {
    "colab": {
     "base_uri": "https://localhost:8080/"
    },
    "executionInfo": {
     "elapsed": 9,
     "status": "ok",
     "timestamp": 1650284139708,
     "user": {
      "displayName": "Alain Chancé",
      "userId": "15344856735617693852"
     },
     "user_tz": -120
    },
    "id": "YYCGy2pSuQUo",
    "outputId": "013a9212-292d-48fe-c1f6-b9a34578d567"
   },
   "outputs": [
    {
     "name": "stdout",
     "output_type": "stream",
     "text": [
      "Fermionic Operator\n",
      "number spin orbitals=4, number terms=36\n",
      "  0.33785507740175813 * ( +_0 +_0 -_0 -_0 )\n",
      "+ 0.3322908651276482 * ( +_0 +_1 -_1 -_0 )\n",
      "+ 0.33785507740175813 * ( +_0 +_2 -_2 -_0 )\n",
      "+ 0.3322908651276482 * ( +_0 +_3 -_3 -_0 )\n",
      "+ 0.09046559989211572 * ( +_0 +_0 -_1 -_1 )\n",
      "+ 0.09046559989211572 * ( +_0 +_1 -_0 -_1 )\n",
      "+ 0.09046559989211572 * ( +_0 +_2 -_3 -_1 )\n",
      "+ 0.09046559989211572 * ( +_0 +_3 -_2 -_1 )\n",
      "+ 0.09046559989211572 * ( +_1 +_0 -_1 -_0 )\n",
      "+ 0.09046559989211572 * ( +_1 +_1 -_0 -_0 )\n",
      "+ 0.09046559989211572 * ( +_1 +_2 -_3 -_0 )\n",
      "+ 0.09046559989211572 * ( +_1 +_3 -_2 -_0 )\n",
      "+ 0.3322908651276482 * ( +_1 +_0 -_0 -_1 )\n",
      "+ 0.34928686136600884 * ( +_1 +_1 -_1 -_1 )\n",
      "+ 0.3322908651276482 * ( +_1 +_2 -_2 -_1 )\n",
      "+ 0.34928686136600884 * ( +_1 +_3 -_3 -_1 )\n",
      "+ 0.33785507740175813 * ( +_2 +_0 -_0 -_2 )\n",
      "+ 0.3322908651276482 * ( +_2 +_1 -_1 -_2 )\n",
      "+ 0.33785507740175813 * ( +_2 +_2 -_2 -_2 )\n",
      "+ 0.3322908651276482 * ( +_2 +_3 -_3 -_2 )\n",
      "...\n"
     ]
    }
   ],
   "source": [
    "# We print the first 20 terms of the fermionic Hamiltonian operator of the molecule\n",
    "# https://qiskit.org/documentation/nature/migration/00b_Electronic_structure_with_v0.5.html\n",
    "print(\"\\n\".join(str(H2_second_q_op).splitlines()[:22] + [\"...\"]))"
   ]
  },
  {
   "cell_type": "markdown",
   "metadata": {
    "id": "EyXsyHbFuy8v"
   },
   "source": [
    "Figure 4.20 – First 20 terms of the fermionic Hamiltonian operator of the lithium hydride molecule"
   ]
  },
  {
   "cell_type": "code",
   "execution_count": 38,
   "metadata": {
    "colab": {
     "base_uri": "https://localhost:8080/"
    },
    "executionInfo": {
     "elapsed": 1416,
     "status": "ok",
     "timestamp": 1650284141121,
     "user": {
      "displayName": "Alain Chancé",
      "userId": "15344856735617693852"
     },
     "user_tz": -120
    },
    "id": "h5kodlC-8LhU",
    "outputId": "8dd901e2-0143-4838-c07c-261311d9c8c5"
   },
   "outputs": [],
   "source": [
    "# The to_matrix method is deprecated as of version 0.6.0 and will be removed no sooner than 3 months after the release\n",
    "#print(LiH_second_q_op.to_matrix())"
   ]
  },
  {
   "cell_type": "markdown",
   "metadata": {
    "id": "cB-eC4eKYFcv"
   },
   "source": [
    "Figure 4.21 – Matrix representation of the Fermionic Hamiltonian operator of the lithium hydride molecule in the Fock basis\n",
    "\n",
    "# 4.7. Fermion to qubit mappings"
   ]
  },
  {
   "cell_type": "markdown",
   "metadata": {
    "id": "bvCNLUHxg5Mq"
   },
   "source": [
    "## 4.7.1. Qubit creation and annihilation operators\n",
    "\n",
    "Figure 4.22 – Qubit creation and annihilation operators"
   ]
  },
  {
   "cell_type": "markdown",
   "metadata": {
    "id": "AdPIXHnjeOog"
   },
   "source": [
    "## 4.7.2. Jordan-Wigner transformation\n",
    "Figure 4.23 – Jordan-Wigner transformation"
   ]
  },
  {
   "cell_type": "code",
   "execution_count": 39,
   "metadata": {},
   "outputs": [],
   "source": [
    "# https://qiskit.org/ecosystem/nature/migration/0.6_c_qubit_converter.html#paulisumop-vs-sparsepauliop\n",
    "settings.use_pauli_sum_op = False\n",
    "\n",
    "# https://qiskit.org/documentation/nature/locale/bn_BN/stubs/qiskit_nature.second_q.operators.FermionicOp.html\n",
    "# A FermionicOp is initialized with a dictionary, mapping terms to their respective coefficients\n",
    "\n",
    "# QubitConverter Migration\n",
    "# https://qiskit.org/ecosystem/nature/migration/0.6_c_qubit_converter.html\n",
    "def label_to_qubit(label, mapper):\n",
    "    f_op = FermionicOp(label)\n",
    "    qubit_op = mapper.map(f_op)\n",
    "    return qubit_op"
   ]
  },
  {
   "cell_type": "code",
   "execution_count": 40,
   "metadata": {
    "colab": {
     "base_uri": "https://localhost:8080/"
    },
    "executionInfo": {
     "elapsed": 24,
     "status": "ok",
     "timestamp": 1650284141122,
     "user": {
      "displayName": "Alain Chancé",
      "userId": "15344856735617693852"
     },
     "user_tz": -120
    },
    "id": "LbmLpvZx18X1",
    "outputId": "a95e0a56-de45-49c2-c6c7-f4d0b49b805e"
   },
   "outputs": [
    {
     "name": "stdout",
     "output_type": "stream",
     "text": [
      "{'+_0': 1.0}:\n",
      " SparsePauliOp(['X', 'Y'],\n",
      "              coeffs=[0.5+0.j , 0. -0.5j])\n",
      "\n",
      "{'+_1': 1.0}:\n",
      " SparsePauliOp(['XZ', 'YZ'],\n",
      "              coeffs=[0.5+0.j , 0. -0.5j])\n",
      "\n",
      "{'+_2': 1.0}:\n",
      " SparsePauliOp(['XZZ', 'YZZ'],\n",
      "              coeffs=[0.5+0.j , 0. -0.5j])\n",
      "\n",
      "{'+_3': 1.0}:\n",
      " SparsePauliOp(['XZZZ', 'YZZZ'],\n",
      "              coeffs=[0.5+0.j , 0. -0.5j])\n",
      "\n",
      "{'+_4': 1.0}:\n",
      " SparsePauliOp(['XZZZZ', 'YZZZZ'],\n",
      "              coeffs=[0.5+0.j , 0. -0.5j])\n",
      "\n"
     ]
    }
   ],
   "source": [
    "for k in ({\"+_0\":1.0}, {\"+_1\":1.0}, {\"+_2\":1.0}, {\"+_3\":1.0}, {\"+_4\":1.0}):\n",
    "  qubit_op = label_to_qubit(k, JordanWignerMapper())\n",
    "  print(\"{}:\\n {}\\n\".format(k, qubit_op))"
   ]
  },
  {
   "cell_type": "markdown",
   "metadata": {
    "id": "Di97v1-2m4Nh"
   },
   "source": [
    "Figure 4.24 – Jordan-Wigner transformation illustrated with \"+_0\", \"+_1\", \"+_2\", \"+_3\", \"+_4\"\n",
    "\n",
    "## 4.7.3. Parity transformation\n",
    "\n",
    "Figure 4.25 – Parity transformation"
   ]
  },
  {
   "cell_type": "code",
   "execution_count": 41,
   "metadata": {
    "colab": {
     "base_uri": "https://localhost:8080/"
    },
    "executionInfo": {
     "elapsed": 23,
     "status": "ok",
     "timestamp": 1650284141123,
     "user": {
      "displayName": "Alain Chancé",
      "userId": "15344856735617693852"
     },
     "user_tz": -120
    },
    "id": "yoWuByO3DIlM",
    "outputId": "f963b8af-7f8b-40b8-ea73-d3af437b174b"
   },
   "outputs": [
    {
     "name": "stdout",
     "output_type": "stream",
     "text": [
      "{'+_0': 1.0}:\n",
      " SparsePauliOp(['X', 'Y'],\n",
      "              coeffs=[0.5+0.j , 0. -0.5j])\n",
      "\n",
      "{'+_1': 1.0}:\n",
      " SparsePauliOp(['XZ', 'YI'],\n",
      "              coeffs=[0.5+0.j , 0. -0.5j])\n",
      "\n",
      "{'+_2': 1.0}:\n",
      " SparsePauliOp(['XZI', 'YII'],\n",
      "              coeffs=[0.5+0.j , 0. -0.5j])\n",
      "\n",
      "{'+_3': 1.0}:\n",
      " SparsePauliOp(['XZII', 'YIII'],\n",
      "              coeffs=[0.5+0.j , 0. -0.5j])\n",
      "\n",
      "{'+_4': 1.0}:\n",
      " SparsePauliOp(['XZIII', 'YIIII'],\n",
      "              coeffs=[0.5+0.j , 0. -0.5j])\n",
      "\n"
     ]
    }
   ],
   "source": [
    "for k in ({\"+_0\":1.0}, {\"+_1\":1.0}, {\"+_2\":1.0}, {\"+_3\":1.0}, {\"+_4\":1.0}):\n",
    "  qubit_op = label_to_qubit(k, ParityMapper())\n",
    "  print(\"{}:\\n {}\\n\".format(k, qubit_op))"
   ]
  },
  {
   "cell_type": "markdown",
   "metadata": {
    "id": "VdBTwgJqip_i"
   },
   "source": [
    "Figure 4.26 – Parity transformation illustrated with \"+_0\", \"+_1\", \"+_2\", \"+_3\", \"+_4\"\n",
    "\n",
    "## 4.7.4. Bravyi-Kitaev transformation"
   ]
  },
  {
   "cell_type": "code",
   "execution_count": 42,
   "metadata": {
    "id": "wN6H1OUWB7Zw"
   },
   "outputs": [],
   "source": [
    "def BK(m):\n",
    "  I = [[1, 0], [0, 1]]\n",
    "  d = {}\n",
    "  d[0] = [1]\n",
    "  for k in range(0, m):\n",
    "    B = np.kron(I,d[k])\n",
    "    for l in range(2**k, 2**(k+1)):\n",
    "      B[0,l] = 1\n",
    "    d[k+1] = B\n",
    "  return d"
   ]
  },
  {
   "cell_type": "code",
   "execution_count": 43,
   "metadata": {
    "colab": {
     "base_uri": "https://localhost:8080/",
     "height": 392
    },
    "executionInfo": {
     "elapsed": 17,
     "status": "ok",
     "timestamp": 1650284141124,
     "user": {
      "displayName": "Alain Chancé",
      "userId": "15344856735617693852"
     },
     "user_tz": -120
    },
    "id": "Wi0LFFWKZ9-J",
    "outputId": "5ddd4314-f747-43a0-948e-3eb3e8097556"
   },
   "outputs": [
    {
     "data": {
      "text/latex": [
       "$$\n",
       "B_{1} = \n",
       "\\begin{bmatrix}\n",
       "1  \\\\\n",
       " \\end{bmatrix}\n",
       "$$"
      ],
      "text/plain": [
       "<IPython.core.display.Latex object>"
      ]
     },
     "metadata": {},
     "output_type": "display_data"
    },
    {
     "name": "stdout",
     "output_type": "stream",
     "text": [
      " \n"
     ]
    },
    {
     "data": {
      "text/latex": [
       "$$\n",
       "B_{2} = \n",
       "\\begin{bmatrix}\n",
       "1 & 1  \\\\\n",
       " 0 & 1  \\\\\n",
       " \\end{bmatrix}\n",
       "$$"
      ],
      "text/plain": [
       "<IPython.core.display.Latex object>"
      ]
     },
     "metadata": {},
     "output_type": "display_data"
    },
    {
     "name": "stdout",
     "output_type": "stream",
     "text": [
      " \n"
     ]
    },
    {
     "data": {
      "text/latex": [
       "$$\n",
       "B_{4} = \n",
       "\\begin{bmatrix}\n",
       "1 & 1 & 1 & 1  \\\\\n",
       " 0 & 1 & 0 & 0  \\\\\n",
       " 0 & 0 & 1 & 1  \\\\\n",
       " 0 & 0 & 0 & 1  \\\\\n",
       " \\end{bmatrix}\n",
       "$$"
      ],
      "text/plain": [
       "<IPython.core.display.Latex object>"
      ]
     },
     "metadata": {},
     "output_type": "display_data"
    },
    {
     "name": "stdout",
     "output_type": "stream",
     "text": [
      " \n"
     ]
    },
    {
     "data": {
      "text/latex": [
       "$$\n",
       "B_{8} = \n",
       "\\begin{bmatrix}\n",
       "1 & 1 & 1 & 1 & 1 & 1 & 1 & 1  \\\\\n",
       " 0 & 1 & 0 & 0 & 0 & 0 & 0 & 0  \\\\\n",
       " 0 & 0 & 1 & 1 & 0 & 0 & 0 & 0  \\\\\n",
       " 0 & 0 & 0 & 1 & 0 & 0 & 0 & 0  \\\\\n",
       " 0 & 0 & 0 & 0 & 1 & 1 & 1 & 1  \\\\\n",
       " 0 & 0 & 0 & 0 & 0 & 1 & 0 & 0  \\\\\n",
       " 0 & 0 & 0 & 0 & 0 & 0 & 1 & 1  \\\\\n",
       " 0 & 0 & 0 & 0 & 0 & 0 & 0 & 1  \\\\\n",
       " \\end{bmatrix}\n",
       "$$"
      ],
      "text/plain": [
       "<IPython.core.display.Latex object>"
      ]
     },
     "metadata": {},
     "output_type": "display_data"
    },
    {
     "name": "stdout",
     "output_type": "stream",
     "text": [
      " \n"
     ]
    }
   ],
   "source": [
    "d = BK(3)\n",
    "for k, v in d.items():\n",
    "  s = \"B_{\"+str(2**k)+\"} = \"\n",
    "  display(array_to_latex(v, prefix=s, precision = 0))\n",
    "  print(\" \")"
   ]
  },
  {
   "cell_type": "markdown",
   "metadata": {
    "id": "Pt0QInTUGfRM"
   },
   "source": [
    "Figure 4.27 – BK matrices $B_1$, $B_2$, $B_4$ and $B_8$\n",
    "\n",
    "Figure 4.28 – BK transformation"
   ]
  },
  {
   "cell_type": "code",
   "execution_count": 44,
   "metadata": {
    "colab": {
     "base_uri": "https://localhost:8080/"
    },
    "executionInfo": {
     "elapsed": 15,
     "status": "ok",
     "timestamp": 1650284141125,
     "user": {
      "displayName": "Alain Chancé",
      "userId": "15344856735617693852"
     },
     "user_tz": -120
    },
    "id": "SVqbCYNhGziz",
    "outputId": "2c1b66cc-ce32-40b2-bad3-6351cb33e08d"
   },
   "outputs": [
    {
     "name": "stdout",
     "output_type": "stream",
     "text": [
      "{'+_0': 1.0}:\n",
      " SparsePauliOp(['X', 'Y'],\n",
      "              coeffs=[0.5+0.j , 0. -0.5j])\n",
      "\n",
      "{'+_1': 1.0}:\n",
      " SparsePauliOp(['XZ', 'YI'],\n",
      "              coeffs=[0.5+0.j , 0. -0.5j])\n",
      "\n",
      "{'+_2': 1.0}:\n",
      " SparsePauliOp(['XZI', 'YZI'],\n",
      "              coeffs=[0.5+0.j , 0. -0.5j])\n",
      "\n",
      "{'+_3': 1.0}:\n",
      " SparsePauliOp(['XZZI', 'YIII'],\n",
      "              coeffs=[0.5+0.j , 0. -0.5j])\n",
      "\n",
      "{'+_4': 1.0}:\n",
      " SparsePauliOp(['XZIII', 'YZIII'],\n",
      "              coeffs=[0.5+0.j , 0. -0.5j])\n",
      "\n"
     ]
    }
   ],
   "source": [
    "for k in ({\"+_0\":1.0}, {\"+_1\":1.0}, {\"+_2\":1.0}, {\"+_3\":1.0}, {\"+_4\":1.0}):\n",
    "  qubit_op = label_to_qubit(k, BravyiKitaevMapper())\n",
    "  print(\"{}:\\n {}\\n\".format(k, qubit_op))"
   ]
  },
  {
   "cell_type": "markdown",
   "metadata": {
    "id": "lp2-QxbQh8Tf"
   },
   "source": [
    "Figure 4.29 – Bravyi-Kitaev transformation illustrated with \"+_0\", \"+_1\", \"+_2\", \"+_3\", \"+_4\"\n",
    "\n",
    "# 4.8. Constructing a qubit Hamiltonian with Qiskit Nature"
   ]
  },
  {
   "cell_type": "code",
   "execution_count": 45,
   "metadata": {
    "id": "mpCk6k6mexVL"
   },
   "outputs": [],
   "source": [
    "def fermion_to_qubit(problem, second_q_op, mapper_name, truncate=20, two_qubit_reduction=False, z2symmetry_reduction=None, show=True): \n",
    "# Electronic Structure Problems with v0.5\n",
    "# https://qiskit.org/documentation/nature/migration/00b_Electronic_structure_with_v0.5.html\n",
    "# https://qiskit.org/documentation/nature/stubs/qiskit_nature.second_q.mappers.QubitConverter.html#qubitconverter\n",
    "# https://qiskit.org/ecosystem/nature/migration/0.6_c_qubit_converter.html\n",
    "  if show:\n",
    "    print(\"Qubit Hamiltonian operator\")\n",
    "    print(\"{} transformation \". format(mapper_name))\n",
    "\n",
    "  match mapper_name:\n",
    "    case \"Jordan-Wigner\":\n",
    "      mapper = JordanWignerMapper()\n",
    "    case \"Parity\":\n",
    "      mapper = ParityMapper(num_particles=problem.num_particles)\n",
    "    case \"Bravyi-Kitaev\":\n",
    "      mapper = BravyiKitaevMapper()\n",
    "  \n",
    "  qubit_op = mapper.map(second_q_op)\n",
    "  \n",
    "  if z2symmetry_reduction != None:\n",
    "    tapered_mapper = problem.get_tapered_mapper(mapper)\n",
    "    qubit_op = tapered_mapper.map(second_q_op)\n",
    "    \n",
    "  n_items = len(qubit_op)\n",
    "  if show:\n",
    "    print(\"Number of items in the Pauli list:\", n_items)\n",
    "    if n_items <= truncate:\n",
    "      print(qubit_op)\n",
    "    else:\n",
    "      print(qubit_op[0:truncate])\n",
    "  return qubit_op, mapper"
   ]
  },
  {
   "cell_type": "markdown",
   "metadata": {
    "id": "dnu8trf2jXgm"
   },
   "source": [
    "## 4.8.1. Constructing a qubit Hamiltonian operator of the hydrogen molecule"
   ]
  },
  {
   "cell_type": "code",
   "execution_count": 46,
   "metadata": {
    "colab": {
     "base_uri": "https://localhost:8080/"
    },
    "executionInfo": {
     "elapsed": 431,
     "status": "ok",
     "timestamp": 1650284141548,
     "user": {
      "displayName": "Alain Chancé",
      "userId": "15344856735617693852"
     },
     "user_tz": -120
    },
    "id": "m4itrsMdqemv",
    "outputId": "62b3c051-a91b-4c71-f313-62d21cd02bb8"
   },
   "outputs": [
    {
     "name": "stdout",
     "output_type": "stream",
     "text": [
      "Hydrogen molecule\n",
      "Qubit Hamiltonian operator\n",
      "Jordan-Wigner transformation \n",
      "Number of items in the Pauli list: 15\n",
      "SparsePauliOp(['IIII', 'IIIZ', 'IIZI', 'IIZZ', 'IZII', 'IZIZ', 'ZIII', 'ZIIZ', 'YYYY', 'XXYY', 'YYXX', 'XXXX', 'IZZI', 'ZIZI', 'ZZII'],\n",
      "              coeffs=[-0.81054798+0.j,  0.17218393+0.j, -0.22575349+0.j,  0.12091263+0.j,\n",
      "  0.17218393+0.j,  0.16892754+0.j, -0.22575349+0.j,  0.16614543+0.j,\n",
      "  0.0452328 +0.j,  0.0452328 +0.j,  0.0452328 +0.j,  0.0452328 +0.j,\n",
      "  0.16614543+0.j,  0.17464343+0.j,  0.12091263+0.j])\n"
     ]
    }
   ],
   "source": [
    "print(\"Hydrogen molecule\")\n",
    "H2_qubit_op, qubit_converter = fermion_to_qubit(H2_problem, H2_second_q_op, \"Jordan-Wigner\", two_qubit_reduction=True)"
   ]
  },
  {
   "cell_type": "markdown",
   "metadata": {
    "id": "6sDkWL73icSc"
   },
   "source": [
    "Figure 4.30 – Qubit Hamiltonian operator of $H_2$ with the JW transformation"
   ]
  },
  {
   "cell_type": "code",
   "execution_count": 47,
   "metadata": {
    "colab": {
     "base_uri": "https://localhost:8080/"
    },
    "executionInfo": {
     "elapsed": 14,
     "status": "ok",
     "timestamp": 1650284141548,
     "user": {
      "displayName": "Alain Chancé",
      "userId": "15344856735617693852"
     },
     "user_tz": -120
    },
    "id": "e2ZxA1QZpwV-",
    "outputId": "8194c992-ea73-4b00-aa1d-123a9978282c"
   },
   "outputs": [
    {
     "name": "stdout",
     "output_type": "stream",
     "text": [
      "Hydrogen molecule\n",
      "Qubit Hamiltonian operator\n",
      "Parity transformation \n",
      "Number of items in the Pauli list: 5\n",
      "SparsePauliOp(['II', 'IZ', 'ZI', 'ZZ', 'XX'],\n",
      "              coeffs=[-1.05237325+0.j,  0.39793742+0.j, -0.39793742+0.j, -0.0112801 +0.j,\n",
      "  0.1809312 +0.j])\n"
     ]
    }
   ],
   "source": [
    "print(\"Hydrogen molecule\")\n",
    "H2_qubit_op, qubit_converter = fermion_to_qubit(H2_problem, H2_second_q_op, \"Parity\", two_qubit_reduction=True)"
   ]
  },
  {
   "cell_type": "markdown",
   "metadata": {
    "id": "WSpdrrkzitLF"
   },
   "source": [
    "Figure 4.31 – Qubit Hamiltonian operator of $H_2$ with parity transformation, two_qubit_reduction True"
   ]
  },
  {
   "cell_type": "code",
   "execution_count": 48,
   "metadata": {
    "colab": {
     "base_uri": "https://localhost:8080/"
    },
    "executionInfo": {
     "elapsed": 11,
     "status": "ok",
     "timestamp": 1650284141549,
     "user": {
      "displayName": "Alain Chancé",
      "userId": "15344856735617693852"
     },
     "user_tz": -120
    },
    "id": "muJf5AK36Dyf",
    "outputId": "7a2baa0a-e291-4511-e576-e0b9fa3885cb"
   },
   "outputs": [
    {
     "name": "stdout",
     "output_type": "stream",
     "text": [
      "Hydrogen molecule\n",
      "Qubit Hamiltonian operator\n",
      "Bravyi-Kitaev transformation \n",
      "Number of items in the Pauli list: 15\n",
      "SparsePauliOp(['IIII', 'IIIZ', 'IIZZ', 'IIZI', 'IZII', 'IZIZ', 'ZZZI', 'ZZZZ', 'ZXIX', 'IXZX', 'ZXZX', 'IXIX', 'IZZZ', 'ZZIZ', 'ZIZI'],\n",
      "              coeffs=[-0.81054798+0.j,  0.17218393+0.j, -0.22575349+0.j,  0.12091263+0.j,\n",
      "  0.17218393+0.j,  0.16892754+0.j, -0.22575349+0.j,  0.16614543+0.j,\n",
      "  0.0452328 +0.j, -0.0452328 +0.j, -0.0452328 +0.j,  0.0452328 +0.j,\n",
      "  0.16614543+0.j,  0.17464343+0.j,  0.12091263+0.j])\n"
     ]
    }
   ],
   "source": [
    "print(\"Hydrogen molecule\")\n",
    "H2_qubit_op, qubit_converter = fermion_to_qubit(H2_problem, H2_second_q_op, \"Bravyi-Kitaev\", two_qubit_reduction=True)"
   ]
  },
  {
   "cell_type": "markdown",
   "metadata": {
    "id": "5XblKH7TjWEv"
   },
   "source": [
    "Figure 4.32 – Qubit Hamiltonian operator of $H_2$ with the Bravyi-Kitaev transformation\n",
    "\n",
    "## 4.8.2. Constructing a qubit Hamiltonian operator of the lithium hydride molecule"
   ]
  },
  {
   "cell_type": "code",
   "execution_count": 49,
   "metadata": {
    "colab": {
     "base_uri": "https://localhost:8080/"
    },
    "executionInfo": {
     "elapsed": 678,
     "status": "ok",
     "timestamp": 1650284142220,
     "user": {
      "displayName": "Alain Chancé",
      "userId": "15344856735617693852"
     },
     "user_tz": -120
    },
    "id": "kbpd4b7q6X6X",
    "outputId": "15a518c5-c4c3-4c95-db4f-57d418f77cad"
   },
   "outputs": [
    {
     "name": "stdout",
     "output_type": "stream",
     "text": [
      "Lithium hydride molecule\n",
      "Using the ParityMapper with two_qubit_reduction=True to eliminate two qubits\n",
      "Setting z2symmetry_reduction=\"auto\"\n",
      "Qubit Hamiltonian operator\n",
      "Parity transformation \n",
      "Number of items in the Pauli list: 100\n",
      "SparsePauliOp(['IIII', 'IIIZ', 'IIZZ', 'IIZI', 'IIXZ', 'IIXI', 'IZII', 'IZIZ', 'ZXII', 'ZXIZ', 'IXII', 'IXIZ', 'XXII', 'XXIZ', 'YYII', 'YYIZ', 'ZZII', 'ZZIZ', 'XZII', 'XZIZ'],\n",
      "              coeffs=[-0.20316606+0.j, -0.09275995+0.j, -0.21188984+0.j,  0.36525869+0.j,\n",
      "  0.01938941+0.j,  0.01938941+0.j,  0.09275995+0.j, -0.12274244+0.j,\n",
      "  0.00294114+0.j,  0.01192553+0.j,  0.00294114+0.j,  0.01192553+0.j,\n",
      " -0.0007428 +0.j, -0.0323953 +0.j,  0.0007428 +0.j,  0.0323953 +0.j,\n",
      " -0.21188984+0.j,  0.05628878+0.j, -0.01938941+0.j, -0.01277933+0.j])\n"
     ]
    }
   ],
   "source": [
    "print(\"Lithium hydride molecule\")\n",
    "print(\"Using the ParityMapper with two_qubit_reduction=True to eliminate two qubits\")\n",
    "print(\"Setting z2symmetry_reduction=\\\"auto\\\"\")\n",
    "LiH_qubit_op, qubit_converter = fermion_to_qubit(LiH_problem, LiH_second_q_op, \"Parity\", two_qubit_reduction=True, z2symmetry_reduction=\"auto\")"
   ]
  },
  {
   "cell_type": "markdown",
   "metadata": {
    "id": "LEMhBdT7FSQ1"
   },
   "source": [
    "Figure 4.33 – Qubit Hamiltonian operator of LiH with parity transformation, two_qubit_reduction True\n",
    "\n",
    "# Summary"
   ]
  },
  {
   "cell_type": "markdown",
   "metadata": {
    "id": "CTZXeX0q7YV2"
   },
   "source": [
    "# Questions\n",
    "\n",
    "1. Which of the following terms is neglected in the BO approximation?\n",
    "\n",
    "A.\tElectronic kinetic energy operator.\n",
    "\n",
    "B.\tNuclear kinetic energy operator.\n",
    "\n",
    "C.\tPotential energy between the electrons and nuclei. It is the sum of all electron-nucleus Coulomb interactions.\n",
    "\n",
    "D.\tPotential energy operator arising from electron-electron Coulomb repulsions."
   ]
  },
  {
   "cell_type": "code",
   "execution_count": 50,
   "metadata": {
    "cellView": "form",
    "colab": {
     "base_uri": "https://localhost:8080/"
    },
    "executionInfo": {
     "elapsed": 27,
     "status": "ok",
     "timestamp": 1650284142221,
     "user": {
      "displayName": "Alain Chancé",
      "userId": "15344856735617693852"
     },
     "user_tz": -120
    },
    "id": "DtfjLkr-7wsF",
    "outputId": "166f8491-e50a-4cad-b92d-5e40b0bc0d54"
   },
   "outputs": [
    {
     "name": "stdout",
     "output_type": "stream",
     "text": [
      "Incorrect, please try again\n"
     ]
    }
   ],
   "source": [
    "#@title Enter your answer A, B, C, D or E or ? for a solution, then execute cell.\n",
    "answer = \" \" #@param {type:\"string\"}\n",
    "solution = \"B\"\n",
    "if answer == solution:\n",
    "  print(\"Correct\")\n",
    "elif answer == '?':\n",
    "  print(solution)\n",
    "else:\n",
    "  print(\"Incorrect, please try again\")"
   ]
  },
  {
   "cell_type": "markdown",
   "metadata": {
    "id": "4CxW6o7R8sk5"
   },
   "source": [
    "2. The Slater determinant wave function is antisymmetric with respect to: \n",
    "\n",
    "A.\tthe exchange of two electrons (permutation of two rows) or, \n",
    "\n",
    "B.\twith respect to the exchange of two spin orbitals (permutation of two columns)\n",
    "\n",
    "C.\tOr both the above?\n"
   ]
  },
  {
   "cell_type": "code",
   "execution_count": 51,
   "metadata": {
    "cellView": "form",
    "colab": {
     "base_uri": "https://localhost:8080/"
    },
    "executionInfo": {
     "elapsed": 21,
     "status": "ok",
     "timestamp": 1650284142221,
     "user": {
      "displayName": "Alain Chancé",
      "userId": "15344856735617693852"
     },
     "user_tz": -120
    },
    "id": "MEZy8MCz88kO",
    "outputId": "0802f76d-0c06-402a-8adb-11c7fab3d347"
   },
   "outputs": [
    {
     "name": "stdout",
     "output_type": "stream",
     "text": [
      "Incorrect, please try again\n"
     ]
    }
   ],
   "source": [
    "#@title Enter your answer A, B or C or ? for a solution, then execute cell.\n",
    "answer = \"\" #@param {type:\"string\"}\n",
    "solution = \"C\"\n",
    "if answer == solution:\n",
    "  print(\"Correct\")\n",
    "elif answer == '?':\n",
    "  print(solution)\n",
    "else:\n",
    "  print(\"Incorrect, please try again\")"
   ]
  },
  {
   "cell_type": "markdown",
   "metadata": {
    "id": "Zuh8pwSV9Yvc"
   },
   "source": [
    "3. Name three fermion to qubit transformations currently supported by Qiskit Nature."
   ]
  },
  {
   "cell_type": "code",
   "execution_count": 52,
   "metadata": {
    "cellView": "form",
    "colab": {
     "base_uri": "https://localhost:8080/"
    },
    "executionInfo": {
     "elapsed": 19,
     "status": "ok",
     "timestamp": 1650284142222,
     "user": {
      "displayName": "Alain Chancé",
      "userId": "15344856735617693852"
     },
     "user_tz": -120
    },
    "id": "UAC5uySv9f9L",
    "outputId": "574dbce9-26de-4c61-e5db-2060da4ef040"
   },
   "outputs": [
    {
     "name": "stdout",
     "output_type": "stream",
     "text": [
      "Incorrect, please try again\n"
     ]
    }
   ],
   "source": [
    "#@title Enter your answer as one or more words separated by ',' or ? for a solution, then execute cell.\n",
    "answer = \"\" #@param {type:\"string\"}\n",
    "solution = \"Jordan-Wigner, Parity, Bravyi-Kitaev\"\n",
    "if answer == solution:\n",
    "  print(\"Correct\")\n",
    "elif answer == '?':\n",
    "  print(solution)\n",
    "else:\n",
    "  print(\"Incorrect, please try again\")"
   ]
  },
  {
   "cell_type": "markdown",
   "metadata": {
    "id": "XlqcEsjy-DWE"
   },
   "source": [
    "4. Name two fermion to qubit transformations that simulates a system of electrons with the same number of qubits as electrons."
   ]
  },
  {
   "cell_type": "code",
   "execution_count": 53,
   "metadata": {
    "cellView": "form",
    "colab": {
     "base_uri": "https://localhost:8080/"
    },
    "executionInfo": {
     "elapsed": 14,
     "status": "ok",
     "timestamp": 1650284142223,
     "user": {
      "displayName": "Alain Chancé",
      "userId": "15344856735617693852"
     },
     "user_tz": -120
    },
    "id": "B3ED_Rcr-NdW",
    "outputId": "cacfcd4e-65db-4160-a26a-152152f95488"
   },
   "outputs": [
    {
     "name": "stdout",
     "output_type": "stream",
     "text": [
      "Incorrect, please try again\n"
     ]
    }
   ],
   "source": [
    "#@title Enter your answer as one or more words separated by ',' or ? for a solution, then execute cell.\n",
    "answer = \"\" #@param {type:\"string\"}\n",
    "solution = \"Jordan-Wigner, Parity\"\n",
    "if answer == solution:\n",
    "  print(\"Correct\")\n",
    "elif answer == '?':\n",
    "  print(solution)\n",
    "else:\n",
    "  print(\"Incorrect, please try again\")"
   ]
  },
  {
   "cell_type": "markdown",
   "metadata": {
    "id": "evV1mRFp-VbD"
   },
   "source": [
    "5.\tFor which transformation does the resulting Hamiltonian commute with the number spin up and number spin down operators which can be used to taper off two qubits?"
   ]
  },
  {
   "cell_type": "code",
   "execution_count": 54,
   "metadata": {
    "cellView": "form",
    "colab": {
     "base_uri": "https://localhost:8080/"
    },
    "executionInfo": {
     "elapsed": 9,
     "status": "ok",
     "timestamp": 1650284142223,
     "user": {
      "displayName": "Alain Chancé",
      "userId": "15344856735617693852"
     },
     "user_tz": -120
    },
    "id": "iUUXDtOc-bwr",
    "outputId": "53dba04a-42b2-4858-b791-29d1af47fab1"
   },
   "outputs": [
    {
     "name": "stdout",
     "output_type": "stream",
     "text": [
      "Incorrect, please try again\n"
     ]
    }
   ],
   "source": [
    "#@title Enter your answer as one or more words separated by ',' or ? for a solution, then execute cell.\n",
    "answer = \"\" #@param {type:\"string\"}\n",
    "solution = \"Jordan-Wigner\"\n",
    "if answer == solution:\n",
    "  print(\"Correct\")\n",
    "elif answer == '?':\n",
    "  print(solution)\n",
    "else:\n",
    "  print(\"Incorrect, please try again\")"
   ]
  },
  {
   "cell_type": "markdown",
   "metadata": {},
   "source": [
    "# Summary of updates V4\n",
    "\n",
    "This Jupyter notebook has been updated to work with Python 3.12 and the following Qiskit versions:\n",
    "- Qiskit v1.3\n",
    "- Qiskit v2.0\n",
    "- Qiskit v2.1\n",
    "\n",
    "Please refer to the following documentation:\n",
    "- Migrate to the Qiskit Runtime V2 primitives, https://docs.quantum.ibm.com/migration-guides/v2-primitives\n",
    "- StatevectorSampler, https://docs.quantum.ibm.com/api/qiskit/qiskit.primitives.StatevectorSampler\n",
    "- StatevectorEstimator, https://docs.quantum.ibm.com/api/qiskit/qiskit.primitives.StatevectorEstimator\n",
    "\n",
    "V2 primitives do not perform layout, routing, and translation operations. See the transpilation documentation for instructions to transform circuits.\n",
    "\n",
    "**Qiskit Algorithms** is no longer officially supported by IBM. Work is in progress to adapt the whole code base to support V2 primitives and ISA circuits:\n",
    "\n",
    "- Added V2 and ISA support #197, 🔗https://github.com/qiskit-community/qiskit-algorithms/pull/197\n",
    "- HamiltonianPhaseEstimation class — Issue #204, 🔗https://github.com/qiskit-community/qiskit-algorithms/issues/204\n",
    "\n",
    "**Warning**\n",
    "\n",
    "Like any other Apache 2 licensed code, you are free to use `qiskit_algorithms`, `qiskit_nature`, `qiskit/primitives`, and `qiskit/providers` libraries or/and extend them, but please be aware that it is under your own risk. \n",
    "\n",
    "See disclaimer in readme, 🔗 https://github.com/qiskit-community/qiskit-algorithms?tab=readme-ov-file#qiskit-algorithms\n",
    "\n",
    "**Temporary fix**\n",
    "\n",
    "In the same GitHub repository https://github.com/AlainChance/Quantum-Chemistry-and-Computing-for-the-Curious where this Jupyter notebook is published, you will find three TAR archive files containing a set of customized files that are needed/used in the Jupyter notebooks for Chapter 4 and Chapter 5. \n",
    "\n",
    "* qiskit.tar\n",
    "* qiskit_algorithms.tar\n",
    "* qiskit_nature.tar\n",
    "\n",
    "Under your own risk, you can run the `Copy_V4.ipynb` notebook which executes the `Copy_V4.py` script.\n",
    "\n",
    "```bash\n",
    "%run Copy_V4\n",
    "```\n",
    "\n",
    "The Copy_V4.py script sets a boolean `qv1` to `True` if the version of Qiskit is less than 2.0:\n",
    "```\n",
    "import qiskit\n",
    "qv = qiskit.__version__\n",
    "print(f\"Qiskit version: {qv}\")\n",
    "qv1 = int(qv[0]) < 2\n",
    "```\n",
    "\n",
    "The shared variable `primitive_v2` is set in the file `primitive_version.py` as follows (customize according to your specific installation path):\n",
    "```python\n",
    "#------------------------\n",
    "# Get site_packages path\n",
    "#------------------------\n",
    "import site\n",
    "sitepackages = site.getsitepackages()\n",
    "\n",
    "#---------------------------------------------------\n",
    "# Write primitive_version.py into qiskit_algorithms\n",
    "#---------------------------------------------------\n",
    "with open(sitepackages[0] + '/qiskit_algorithms/primitive_version.py', \"w\") as file:\n",
    "    # Write a single line to the file\n",
    "    if qv1:\n",
    "        file.write(\"primitive_v2 = False\")\n",
    "    else:\n",
    "        file.write(\"primitive_v2 = True\")\n",
    "\n",
    "```\n",
    "It then imports it in the code cell that follows `Import various algorithms with the following commands`:\n",
    "```\n",
    "from qiskit_algorithms.primitive_version import primitive_v2\n",
    "```\n",
    "The shared variable `primitive_v2` is imported in a number of Python files, see below examples. \n",
    "\n",
    "`qiskit_algorithms/minimum_eigensolvers/vqe.py`\n",
    "```\n",
    "from qiskit_algorithms.primitive_version import primitive_v2\n",
    "\n",
    "# If version 2 of the Qiskit Runtime primitives\n",
    "if primitive_v2:\n",
    "    from qiskit.primitives import BaseEstimatorV2 as BaseEstimator, StatevectorEstimator\n",
    "    print(\"\\nvqe - Using Qiskit Runtime V2 primitives\")\n",
    "else:\n",
    "    from qiskit.primitives import BaseEstimatorV1 as BaseEstimator, EstimatorResult\n",
    "    from qiskit.primitives.estimator import Estimator\n",
    "    print(\"\\nvqe - Using Qiskit Runtime V1 primitives\")\n",
    "```\n",
    "\n",
    "## Updates in import statements\n",
    "### Import various algorithms with the following commands:\n",
    "Previously\n",
    "```\n",
    "from qiskit.primitives import Sampler\n",
    "from qiskit.primitives import Estimator\n",
    "```\n",
    "New\n",
    "```\n",
    "# Import Qiskit Runtime primitives\n",
    "from qiskit_algorithms.primitive_version import primitive_v2\n",
    "\n",
    "if primitive_v2:\n",
    "    from qiskit.primitives import BaseSamplerV2 as BaseSampler, StatevectorSampler as Sampler\n",
    "    from qiskit.primitives import BaseEstimatorV2 as BaseEstimator, StatevectorEstimator as Estimator\n",
    "    print(\"Using Qiskit Runtime V2 primitives\")\n",
    "else:\n",
    "    from qiskit.primitives.backend_sampler import BaseSampler\n",
    "    from qiskit.primitives.sampler import Sampler\n",
    "    from qiskit.primitives.backend_estimator import BaseEstimator\n",
    "    from qiskit.primitives.estimator import Estimator\n",
    "    print(\"Using Qiskit Runtime V1 primitives\")\n",
    "```"
   ]
  },
  {
   "cell_type": "markdown",
   "metadata": {},
   "source": [
    "# Summary of updates V3\n",
    "This jupyter notebook has been updated to work with Qiskit 1.0.2 and Qiskit Nature 0.7.2.\n",
    "\n",
    "Please refer to the following documentation:\n",
    "- Qiskit 1.0 feature changes, https://docs.quantum.ibm.com/api/migration-guides/qiskit-1.0-features#qiskit-10-feature-changes\n",
    "- Qiskit 1.0 migration tool, https://docs.quantum.ibm.com/api/migration-guides/qiskit-1.0-features#qiskit-10-migration-tool\n",
    "- Qiskit Aer 0.14.0.1, Getting started, https://qiskit.github.io/qiskit-aer/getting_started.html\n",
    "- Qiskit Nature 0.7.2, Qiskit Nature overview, https://qiskit-community.github.io/qiskit-nature/\n",
    "- Qiskit Nature Migration Guides, https://qiskit-community.github.io/qiskit-nature/migration/index.html\n",
    "\n",
    "## Updates in import statements\n",
    "### Import the required functions and class methods\n",
    "The array_to_latex function() returns a Latex representation of a complex array with dimension 1 or 2:\n",
    "\n",
    "Previously\n",
    "```\n",
    "from qiskit.visualization import array_to_latex, plot_bloch_vector, plot_bloch_multivector, plot_state_qsphere, plot_state_city\n",
    "from qiskit import QuantumRegister, ClassicalRegister, QuantumCircuit, transpile\n",
    "from qiskit import execute, Aer\n",
    "import qiskit.quantum_info as qi\n",
    "from qiskit.quantum_info import SparsePauliOp\n",
    "from qiskit.extensions import Initialize\n",
    "#from qiskit.providers.aer import extensions  # import aer snapshot instructions\n",
    "```\n",
    "New\n",
    "```\n",
    "from qiskit.visualization import array_to_latex, plot_bloch_vector, plot_bloch_multivector, plot_state_qsphere, plot_state_city\n",
    "from qiskit import QuantumRegister, ClassicalRegister, QuantumCircuit, transpile\n",
    "import qiskit.quantum_info as qi\n",
    "from qiskit.circuit.library import Initialize\n",
    "from qiskit.quantum_info import SparsePauliOp\n",
    "```\n",
    "### Import Qiskit Nature libraries\n",
    "Previously\n",
    "```\n",
    "from qiskit import Aer\n",
    "#from qiskit_nature.drivers import UnitsType, Molecule\n",
    "\n",
    "#from qiskit_nature.drivers.second_quantization import ElectronicStructureDriverType, ElectronicStructureMoleculeDriver\n",
    "#from qiskit_nature.problems.second_quantization import ElectronicStructureProblem\n",
    "#from qiskit_nature.mappers.second_quantization import ParityMapper, JordanWignerMapper, BravyiKitaevMapper\n",
    "#from qiskit_nature.converters.second_quantization import QubitConverter\n",
    "\n",
    "# Electronic Structure Problems with v0.5\n",
    "# https://qiskit.org/documentation/nature/migration/00b_Electronic_structure_with_v0.5.html\n",
    "from qiskit_nature.second_q.formats.molecule_info import MoleculeInfo\n",
    "from qiskit_nature.units import DistanceUnit\n",
    "from qiskit_nature.second_q.drivers import PySCFDriver\n",
    "#from qiskit_nature.second_q.mappers import QubitConverter\n",
    "from qiskit_nature.second_q.mappers import ParityMapper, JordanWignerMapper, BravyiKitaevMapper\n",
    "from qiskit_nature.second_q.properties import ParticleNumber\n",
    "from qiskit_nature.second_q.transformers import ActiveSpaceTransformer, FreezeCoreTransformer\n",
    "from qiskit_nature.second_q.operators import FermionicOp\n",
    "# https://qiskit.org/ecosystem/nature/migration/0.6_c_qubit_converter.html#paulisumop-vs-sparsepauliop\n",
    "from qiskit_nature import settings\n",
    "\n",
    "#from qiskit_nature.operators.second_quantization import FermionicOp\n",
    "#from qiskit_nature.circuit.library.initial_states import HartreeFock\n",
    "#from qiskit_nature.circuit.library.ansatzes import UCCSD\n",
    "```\n",
    "\n",
    "\n",
    "New\n",
    "```\n",
    "Electronic Structure Problems with v0.5\n",
    "https://qiskit.org/documentation/nature/migration/00b_Electronic_structure_with_v0.5.html\n",
    "from qiskit_nature.second_q.formats.molecule_info import MoleculeInfo\n",
    "from qiskit_nature.units import DistanceUnit\n",
    "from qiskit_nature.second_q.drivers import PySCFDriver\n",
    "\n",
    "from qiskit_nature.second_q.mappers import ParityMapper, JordanWignerMapper, BravyiKitaevMapper\n",
    "from qiskit_nature.second_q.properties import ParticleNumber\n",
    "from qiskit_nature.second_q.transformers import ActiveSpaceTransformer, FreezeCoreTransformer\n",
    "from qiskit_nature.second_q.operators import FermionicOp\n",
    "\n",
    "# https://qiskit.org/ecosystem/nature/migration/0.6_c_qubit_converter.html#paulisumop-vs-sparsepauliop\n",
    "from qiskit_nature import settings\n",
    "```"
   ]
  },
  {
   "cell_type": "markdown",
   "metadata": {},
   "source": [
    "# Summary of updates V2.2"
   ]
  },
  {
   "cell_type": "markdown",
   "metadata": {},
   "source": [
    "## Updates in import statements\n",
    "### Import Qiskit Nature libraries with the following commands:\n",
    "Previously\n",
    "```\n",
    "from qiskit_nature.second_q.mappers import QubitConverter\n",
    "```\n",
    "New\n",
    "```\n",
    "#from qiskit_nature.second_q.mappers import QubitConverter\n",
    "```\n",
    "## Updates in code\n",
    "### 4.6.1. Constructing a fermionic Hamiltonian operator of the hydrogen molecule\n",
    "Previously\n",
    "```\n",
    "# The to_matrix method is deprecated as of version 0.6.0 and will be removed no sooner than 3 months after the release\n",
    "print(H2_second_q_op.to_matrix())\n",
    "```\n",
    "New\n",
    "```\n",
    "# The to_matrix method is deprecated as of version 0.6.0 and will be removed no sooner than 3 months after the release\n",
    "#print(H2_second_q_op.to_matrix())\n",
    "```\n",
    "Previously\n",
    "```\n",
    "# The to_matrix method is deprecated as of version 0.6.0 and will be removed no sooner than 3 months after the release\n",
    "print(LiH_second_q_op.to_matrix())\n",
    "```\n",
    "New\n",
    "```\n",
    "# The to_matrix method is deprecated as of version 0.6.0 and will be removed no sooner than 3 months after the release\n",
    "#print(LiH_second_q_op.to_matrix())\n",
    "```"
   ]
  },
  {
   "cell_type": "markdown",
   "metadata": {
    "id": "eZ3PSaiWHZv6"
   },
   "source": [
    "# Summary of updates V2.1\n",
    "\n",
    "Please refer to the following documentation:\n",
    "*   The QubitConverter Migration Guide, https://qiskit.org/ecosystem/nature/migration/0.6_c_qubit_converter.html\n",
    "*   Transition from the PauliSumOp class and its widespread use to the qiskit.quantum_info module and its SparsePauliOp class, https://qiskit.org/ecosystem/nature/migration/0.6_c_qubit_converter.html#paulisumop-vs-sparsepauliop\n",
    "\n",
    "## Updates in import statements\n",
    "### Transition from the PauliSumOp class and its widespread use to the qiskit.quantum_info module and its SparsePauliOp class\n",
    "New statement\n",
    "```\n",
    "from qiskit_nature import settings\n",
    "```\n",
    "\n",
    "## Updates in code\n",
    "### Transition from the PauliSumOp class and its widespread use to the qiskit.quantum_info module and its SparsePauliOp class\n",
    "New statement\n",
    "```\n",
    "settings.use_pauli_sum_op = False\n",
    "```\n",
    "### Matrix representation of the fermionic Hamiltonian operator deprecated\n",
    "The to_matrix method is deprecated as of version 0.6.0 and will be removed no sooner than 3 months after the release . This method has no direct replacement. Instead, use the `qiskit_nature.second_q.mappers.JordanWignerMapper` to create a qubit operator and subsequently use its `to_matrix()` method. Be advised, that the basis state ordering of that output will differ due to the bitstring endianness. For more information refer to https://github.com/Qiskit/qiskit-nature/issues/875.\n",
    "\n",
    "### QubitConverter Migration\n",
    "Previously\n",
    "```\n",
    "def label_to_qubit(label, converter):\n",
    "    qubit_converter = QubitConverter(converter)\n",
    "    f_op = FermionicOp(label)\n",
    "    qubit_op = qubit_converter.convert(f_op)\n",
    "    return qubit_op\n",
    "```\n",
    "New\n",
    "```\n",
    "# QubitConverter Migration\n",
    "# https://qiskit.org/ecosystem/nature/migration/0.6_c_qubit_converter.html\n",
    "def label_to_qubit(label, mapper):\n",
    "    f_op = FermionicOp(label)\n",
    "    qubit_op = mapper.map(f_op)\n",
    "    return qubit_op\n",
    "```\n",
    "\n",
    "Previously\n",
    "```\n",
    "def fermion_to_qubit(problem, second_q_op, mapper, truncate=20, two_qubit_reduction=False, z2symmetry_reduction=None, show=True): \n",
    "# Electronic Structure Problems with v0.5\n",
    "# https://qiskit.org/documentation/nature/migration/00b_Electronic_structure_with_v0.5.html\n",
    "# https://qiskit.org/documentation/nature/stubs/qiskit_nature.second_q.mappers.QubitConverter.html#qubitconverter\n",
    "  if show:\n",
    "    print(\"Qubit Hamiltonian operator\")\n",
    "  dmap = {\"Jordan-Wigner\": JordanWignerMapper(), \"Parity\": ParityMapper(), \"Bravyi-Kitaev\": BravyiKitaevMapper()}\n",
    "  qubit_op = None\n",
    "  qubit_converter = None\n",
    "  for k, v in dmap.items():\n",
    "    if k == mapper:\n",
    "      if show:\n",
    "        print(\"{} transformation \". format(mapper))\n",
    "      qubit_converter = QubitConverter(v, two_qubit_reduction=two_qubit_reduction, z2symmetry_reduction=z2symmetry_reduction)\n",
    "      # QubitConverter.convert\n",
    "      # https://qiskit.org/documentation/nature/stubs/qiskit_nature.second_q.mappers.QubitConverter.convert.html\n",
    "      if two_qubit_reduction:\n",
    "        qubit_op = qubit_converter.convert(second_q_op, num_particles=problem.num_particles)\n",
    "      else:\n",
    "        qubit_op = qubit_converter.convert(second_q_op)\n",
    "      n_items = len(qubit_op)\n",
    "      if show:\n",
    "        print(\"Number of items in the Pauli list:\", n_items)\n",
    "        if n_items <= truncate:\n",
    "          print(qubit_op)\n",
    "        else:\n",
    "          print(qubit_op[0:truncate])\n",
    "  return qubit_op, qubit_converter\n",
    "```\n",
    "\n",
    "New\n",
    "```\n",
    "def fermion_to_qubit(problem, second_q_op, mapper_name, truncate=20, two_qubit_reduction=False, z2symmetry_reduction=None, show=True): \n",
    "# Electronic Structure Problems with v0.5\n",
    "# https://qiskit.org/documentation/nature/migration/00b_Electronic_structure_with_v0.5.html\n",
    "# https://qiskit.org/documentation/nature/stubs/qiskit_nature.second_q.mappers.QubitConverter.html#qubitconverter\n",
    "# https://qiskit.org/ecosystem/nature/migration/0.6_c_qubit_converter.html\n",
    "  if show:\n",
    "    print(\"Qubit Hamiltonian operator\")\n",
    "    print(\"{} transformation \". format(mapper_name))\n",
    "\n",
    "  match mapper_name:\n",
    "    case \"Jordan-Wigner\":\n",
    "      mapper = JordanWignerMapper()\n",
    "    case \"Parity\":\n",
    "      mapper = ParityMapper(num_particles=problem.num_particles)\n",
    "    case \"Bravyi-Kitaev\":\n",
    "      mapper = BravyiKitaevMapper()\n",
    "  \n",
    "  qubit_op = mapper.map(second_q_op)\n",
    "  \n",
    "  if z2symmetry_reduction != None:\n",
    "    tapered_mapper = problem.get_tapered_mapper(mapper)\n",
    "    qubit_op = tapered_mapper.map(second_q_op)\n",
    "    \n",
    "  n_items = len(qubit_op)\n",
    "  if show:\n",
    "    print(\"Number of items in the Pauli list:\", n_items)\n",
    "    if n_items <= truncate:\n",
    "      print(qubit_op)\n",
    "    else:\n",
    "      print(qubit_op[0:truncate])\n",
    "  return qubit_op, mapper\n",
    "```"
   ]
  },
  {
   "cell_type": "markdown",
   "metadata": {},
   "source": [
    "# Summary of updates V2\n",
    "## Purpose\n",
    "This Jupyter notebook has been adapted to work with Qiskit Nature v0.5 and the new Qiskit Runtime primitives. \n",
    "\n",
    "Please refer to the following documentation:\n",
    "\n",
    "Electronic Structure Problems with v0.5, https://qiskit.org/documentation/nature/migration/00b_Electronic_structure_with_v0.5.html\n",
    "\n",
    "Leveraging Qiskit Runtime\n",
    "https://qiskit.org/documentation/nature/tutorials/07_leveraging_qiskit_runtime.html\n",
    "\n",
    "FermionicOp\n",
    "https://qiskit.org/documentation/nature/locale/bn_BN/stubs/qiskit_nature.second_q.operators.FermionicOp.html\n",
    "\n",
    "## New install command\n",
    "Install qiskit.utils with the following command (V2):\n",
    "```\n",
    "pip install qiskit.utils\n",
    "```\n",
    "## Updates in import statements\n",
    "Previously\n",
    "```\n",
    "from qiskit_nature.drivers.second_quantization import ElectronicStructureDriverType, ElectronicStructureMoleculeDriver\n",
    "from qiskit_nature.problems.second_quantization import ElectronicStructureProblem\n",
    "from qiskit_nature.mappers.second_quantization import ParityMapper, JordanWignerMapper, BravyiKitaevMapper\n",
    "from qiskit_nature.converters.second_quantization import QubitConverter\n",
    "from qiskit_nature.transformers.second_quantization.electronic import ActiveSpaceTransformer, FreezeCoreTransformer\n",
    "from qiskit_nature.operators.second_quantization import FermionicOp\n",
    "```\n",
    "New\n",
    "```\n",
    "# Electronic Structure Problems with v0.5\n",
    "# https://qiskit.org/documentation/nature/migration/00b_Electronic_structure_with_v0.5.html\n",
    "from qiskit_nature.second_q.formats.molecule_info import MoleculeInfo\n",
    "from qiskit_nature.units import DistanceUnit\n",
    "from qiskit_nature.second_q.drivers import PySCFDriver\n",
    "from qiskit_nature.second_q.mappers import QubitConverter\n",
    "from qiskit_nature.second_q.mappers import ParityMapper, JordanWignerMapper, BravyiKitaevMapper\n",
    "from qiskit_nature.second_q.properties import ParticleNumber\n",
    "from qiskit_nature.second_q.transformers import ActiveSpaceTransformer, FreezeCoreTransformer\n",
    "from qiskit_nature.second_q.operators import FermionicOp\n",
    "```\n",
    "\n",
    "## Updates in code\n",
    "\n",
    "### Removed figure 4.10 and figure 4.11 showing the molecular orbital (MO) 1-body and (MO) 2-body terms\n",
    "The One body and two bodies integrals which were components of qiskit_nature.properties are no longer supported, see: https://qiskit.org/documentation/nature/migration/00b_Electronic_structure_with_v0.5.html#qiskit_nature.properties\n",
    "\n",
    "```\n",
    "second_quantization.electronic.integrals.OneBodyElectronicIntegrals removed\n",
    "second_quantization.electronic.integrals.TwoBodyElectronicIntegrals removed\n",
    "```\n",
    "\n",
    "### Updates pertaining to the new MoleculeInfo data structure\n",
    "The MoleculeInfo has become a pure data container and no longer supports degrees of freedom.\n",
    "This version uses a new dictionary to set up the MoleculeInfo data structure.\n",
    "\n",
    "Previously\n",
    "```\n",
    "H2_molecule = Molecule(geometry=[['H', [0., 0., 0.]],['H', [0., 0., 0.735]]],charge=0, multiplicity=1)\n",
    "```\n",
    "New\n",
    "```\n",
    "H2_atoms = [\"H\", \"H\"]\n",
    "H2_coords = [(0.0, 0.0, 0.0), (0.0, 0.0, 0.735)]\n",
    "H2_charge = 0\n",
    "H2_multiplicity = 1\n",
    "H2_atom_pair=(1, 0)\n",
    "H2_info_dict={'atoms':H2_atoms, 'coords':H2_coords, 'charge':H2_charge, 'multiplicity':H2_multiplicity, 'atom_pair':H2_atom_pair}\n",
    "\n",
    "H2_moleculeinfo = MoleculeInfo(H2_atoms, H2_coords, charge=H2_charge, multiplicity=H2_multiplicity)\n",
    "```\n",
    "\n",
    "Previously\n",
    "```\n",
    "LiH_molecule = Molecule(geometry=[['Li', [0., 0., 0.]], ['H', [0., 0., 1.5474]]], charge=0, multiplicity=1)\n",
    "```\n",
    "\n",
    "New\n",
    "```\n",
    "LiH_atoms = [\"Li\", \"H\"]\n",
    "LiH_coords = [(0.0, 0.0, 0.0), (0.0, 0.0, 1.5474)]\n",
    "LiH_charge = 0\n",
    "LiH_multiplicity = 1\n",
    "LiH_atom_pair=(1,0)\n",
    "LiH_info_dict={'atoms':LiH_atoms, 'coords':LiH_coords, 'charge':LiH_charge, 'multiplicity':LiH_multiplicity, 'atom_pair':LiH_atom_pair}\n",
    "\n",
    "LiH_moleculeinfo = MoleculeInfo(LiH_atoms, LiH_coords, charge=LiH_charge, multiplicity=LiH_multiplicity)\n",
    "```\n",
    "\n",
    "### Updates pertaining to the get_particle_number() function\n",
    "Previously\n",
    "```\n",
    "def get_particle_number(problem, show=True):\n",
    "  particle_number = problem.grouped_property_transformed.get_property(\"ParticleNumber\")\n",
    "  num_particles = (particle_number.num_alpha, particle_number.num_beta)\n",
    "  num_spin_orbitals = particle_number.num_spin_orbitals\n",
    "  if show:\n",
    "    print(\"Number of alpha electrons: {}\".format(particle_number.num_alpha))\n",
    "    print(\"Number of beta electrons: {}\".format(particle_number.num_beta))\n",
    "    print(\"Number of spin orbitals: {}\".format(num_spin_orbitals))\n",
    "  return particle_number\n",
    "```\n",
    "New\n",
    "```\n",
    "def get_particle_number(problem, qubit_converter, show=True):\n",
    "  num_particles = qubit_converter.num_particles\n",
    "  \n",
    "  # https://qiskit.org/documentation/nature/stubs/qiskit_nature.second_q.problems.ElectronicStructureProblem.num_spin_orbitals.html\n",
    "  num_spin_orbitals = problem.num_spin_orbitals\n",
    "  \n",
    "  if show:\n",
    "    print(\"Number of particles: {}\".format(num_particles))\n",
    "    print(\"Number of spin orbitals: {}\".format(num_spin_orbitals))\n",
    "    \n",
    "  return num_particles, num_spin_orbitals\n",
    "```\n",
    "### Updates pertaining to the fermion_to_qubit() function\n",
    "Now second_q_op is used as a replacement for second_q_op[0]\n",
    "\n",
    "Previously\n",
    "```\n",
    "def fermion_to_qubit(f_op, second_q_op, mapper, truncate=20, two_qubit_reduction=False, z2symmetry_reduction=None, show=True): \n",
    "  if show:\n",
    "    print(\"Qubit Hamiltonian operator\")\n",
    "  dmap = {\"Jordan-Wigner\": JordanWignerMapper(), \"Parity\": ParityMapper(), \"Bravyi-Kitaev\": BravyiKitaevMapper()}\n",
    "  qubit_op = None\n",
    "  qubit_converter = None\n",
    "  for k, v in dmap.items():\n",
    "    if k == mapper:\n",
    "      if show:\n",
    "        print(\"{} transformation \". format(mapper))\n",
    "      qubit_converter = QubitConverter(v, two_qubit_reduction=two_qubit_reduction, z2symmetry_reduction=z2symmetry_reduction)\n",
    "      if two_qubit_reduction:\n",
    "        qubit_op = qubit_converter.convert(second_q_op[0], num_particles=f_op.num_particles)\n",
    "      else:\n",
    "        qubit_op = qubit_converter.convert(second_q_op[0])\n",
    "      n_items = len(qubit_op)\n",
    "      if show:\n",
    "        print(\"Number of items in the Pauli list:\", n_items)\n",
    "        if n_items <= truncate:\n",
    "          print(qubit_op)\n",
    "        else:\n",
    "          print(qubit_op[0:truncate])\n",
    "  return qubit_op, qubit_converter\n",
    "```\n",
    "New\n",
    "```\n",
    "def fermion_to_qubit(problem, second_q_op, mapper, truncate=20, two_qubit_reduction=False, z2symmetry_reduction=None, show=True): \n",
    "# Electronic Structure Problems with v0.5\n",
    "# https://qiskit.org/documentation/nature/migration/00b_Electronic_structure_with_v0.5.html\n",
    "# https://qiskit.org/documentation/nature/stubs/qiskit_nature.second_q.mappers.QubitConverter.html#qubitconverter\n",
    "  if show:\n",
    "    print(\"Qubit Hamiltonian operator\")\n",
    "  dmap = {\"Jordan-Wigner\": JordanWignerMapper(), \"Parity\": ParityMapper(), \"Bravyi-Kitaev\": BravyiKitaevMapper()}\n",
    "  qubit_op = None\n",
    "  qubit_converter = None\n",
    "  for k, v in dmap.items():\n",
    "    if k == mapper:\n",
    "      if show:\n",
    "        print(\"{} transformation \". format(mapper))\n",
    "      qubit_converter = QubitConverter(v, two_qubit_reduction=two_qubit_reduction, z2symmetry_reduction=z2symmetry_reduction)\n",
    "      # QubitConverter.convert\n",
    "      # https://qiskit.org/documentation/nature/stubs/qiskit_nature.second_q.mappers.QubitConverter.convert.html\n",
    "      if two_qubit_reduction:\n",
    "        qubit_op = qubit_converter.convert(second_q_op, num_particles=problem.num_particles)\n",
    "      else:\n",
    "        qubit_op = qubit_converter.convert(second_q_op)\n",
    "      n_items = len(qubit_op)\n",
    "      if show:\n",
    "        print(\"Number of items in the Pauli list:\", n_items)\n",
    "        if n_items <= truncate:\n",
    "          print(qubit_op)\n",
    "        else:\n",
    "          print(qubit_op[0:truncate])\n",
    "  return qubit_op, qubit_converter\n",
    "```\n",
    "### Updates pertaining to the label_to_qubit() function\n",
    "A FermionicOp is initialized with a dictionary, mapping terms to their respective coefficients.\n",
    "\n",
    "```\n",
    "for k in ({\"+_0\":1.0}, {\"+_1\":1.0}, {\"+_2\":1.0}, {\"+_3\":1.0}, {\"+_4\":1.0}):\n",
    "  qubit_op = label_to_qubit(k, BravyiKitaevMapper())\n",
    "  print(\"{}:\\n {}\\n\".format(k, qubit_op))\n",
    "```\n",
    "```\n",
    "{'+_0': 1.0}:\n",
    " 0.5 * X\n",
    "+ -0.5j * Y\n",
    "\n",
    "{'+_1': 1.0}:\n",
    " 0.5 * XZ\n",
    "+ -0.5j * YZ\n",
    "\n",
    "{'+_2': 1.0}:\n",
    " 0.5 * XZZ\n",
    "+ -0.5j * YZZ\n",
    "\n",
    "{'+_3': 1.0}:\n",
    " 0.5 * XZZZ\n",
    "+ -0.5j * YZZZ\n",
    "\n",
    "{'+_4': 1.0}:\n",
    " 0.5 * XZZZZ\n",
    "+ -0.5j * YZZZZ\n",
    "```"
   ]
  },
  {
   "cell_type": "markdown",
   "metadata": {},
   "source": [
    "## Qiskit packages versions"
   ]
  },
  {
   "cell_type": "code",
   "execution_count": 55,
   "metadata": {},
   "outputs": [
    {
     "name": "stdout",
     "output_type": "stream",
     "text": [
      "Qiskit: 2.1.0\n",
      "Qiskit IBM Runtime: 0.40.1\n",
      "Qiskit Aer version: 0.17.1\n"
     ]
    }
   ],
   "source": [
    "import qiskit\n",
    "import qiskit_ibm_runtime\n",
    "import qiskit_aer\n",
    "\n",
    "print(f'Qiskit: {qiskit.__version__}')\n",
    "print(f'Qiskit IBM Runtime: {qiskit_ibm_runtime.__version__}')\n",
    "print(f\"Qiskit Aer version: {qiskit_aer.__version__}\")"
   ]
  },
  {
   "cell_type": "markdown",
   "metadata": {},
   "source": [
    "## Show Python version"
   ]
  },
  {
   "cell_type": "code",
   "execution_count": 56,
   "metadata": {},
   "outputs": [
    {
     "name": "stdout",
     "output_type": "stream",
     "text": [
      "/home/alain/miniconda3/bin/python\n",
      "Python 3.13.0\n"
     ]
    }
   ],
   "source": [
    "%%bash\n",
    "which python\n",
    "python --version"
   ]
  }
 ],
 "metadata": {
  "colab": {
   "authorship_tag": "ABX9TyN5UsWlliuSEdTzBliUBjiJ",
   "collapsed_sections": [],
   "name": "B18268_Chapter_04_Molecular_Hamiltonians.ipynb",
   "provenance": []
  },
  "kernelspec": {
   "display_name": "Python 3 (ipykernel)",
   "language": "python",
   "name": "python3"
  },
  "language_info": {
   "codemirror_mode": {
    "name": "ipython",
    "version": 3
   },
   "file_extension": ".py",
   "mimetype": "text/x-python",
   "name": "python",
   "nbconvert_exporter": "python",
   "pygments_lexer": "ipython3",
   "version": "3.13.0"
  }
 },
 "nbformat": 4,
 "nbformat_minor": 4
}
